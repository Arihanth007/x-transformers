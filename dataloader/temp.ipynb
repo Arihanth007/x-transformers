{
 "cells": [
  {
   "cell_type": "code",
   "execution_count": 1,
   "metadata": {},
   "outputs": [],
   "source": [
    "import pandas as pd\n",
    "import torch\n",
    "from torch.utils.data import Dataset, DataLoader\n",
    "import random\n",
    "from rdkit import Chem\n",
    "from rdkit.Chem.Draw import IPythonConsole\n",
    "from rdkit.Chem import Draw"
   ]
  },
  {
   "cell_type": "code",
   "execution_count": 2,
   "metadata": {},
   "outputs": [],
   "source": [
    "with open('../data/USPTO_50K_PtoR_aug20/val/src-val.txt', 'r') as f:\n",
    "    products = f.read().splitlines()\n",
    "\n",
    "with open('../data/USPTO_50K_PtoR_aug20/val/tgt-val.txt', 'r') as f:\n",
    "    reactants = f.read().splitlines()"
   ]
  },
  {
   "cell_type": "code",
   "execution_count": 4,
   "metadata": {},
   "outputs": [
    {
     "data": {
      "text/plain": [
       "['O = C ( N c 1 c c c ( O c 2 c c n c 3 [nH] c c c 2 3 ) c ( F ) c 1 ) C ( F ) ( F ) F',\n",
       " 'c 1 c c 2 c ( O c 3 c c c ( N C ( = O ) C ( F ) ( F ) F ) c c 3 F ) c c n c 2 [nH] 1',\n",
       " 'c 1 ( N C ( = O ) C ( F ) ( F ) F ) c c c ( O c 2 c c n c 3 [nH] c c c 2 3 ) c ( F ) c 1',\n",
       " 'c 1 c c ( O c 2 c c n c 3 [nH] c c c 2 3 ) c ( F ) c c 1 N C ( = O ) C ( F ) ( F ) F',\n",
       " 'F c 1 c c ( N C ( = O ) C ( F ) ( F ) F ) c c c 1 O c 1 c c n c 2 [nH] c c c 1 2']"
      ]
     },
     "execution_count": 4,
     "metadata": {},
     "output_type": "execute_result"
    }
   ],
   "source": [
    "products[:5]"
   ]
  },
  {
   "cell_type": "code",
   "execution_count": 8,
   "metadata": {},
   "outputs": [
    {
     "data": {
      "text/plain": [
       "['O = C ( O C ( = O ) C ( F ) ( F ) F ) C ( F ) ( F ) F . N c 1 c c c ( O c 2 c c n c 3 [nH] c c c 2 3 ) c ( F ) c 1',\n",
       " 'c 1 c c 2 c ( O c 3 c c c ( N ) c c 3 F ) c c n c 2 [nH] 1 . C ( = O ) ( O C ( = O ) C ( F ) ( F ) F ) C ( F ) ( F ) F',\n",
       " 'c 1 ( N ) c c c ( O c 2 c c n c 3 [nH] c c c 2 3 ) c ( F ) c 1 . C ( = O ) ( O C ( = O ) C ( F ) ( F ) F ) C ( F ) ( F ) F',\n",
       " 'c 1 c c ( O c 2 c c n c 3 [nH] c c c 2 3 ) c ( F ) c c 1 N . C ( = O ) ( O C ( = O ) C ( F ) ( F ) F ) C ( F ) ( F ) F',\n",
       " 'F c 1 c c ( N ) c c c 1 O c 1 c c n c 2 [nH] c c c 1 2 . C ( = O ) ( O C ( = O ) C ( F ) ( F ) F ) C ( F ) ( F ) F']"
      ]
     },
     "execution_count": 8,
     "metadata": {},
     "output_type": "execute_result"
    }
   ],
   "source": [
    "reactants[:5]"
   ]
  },
  {
   "cell_type": "code",
   "execution_count": null,
   "metadata": {},
   "outputs": [],
   "source": []
  },
  {
   "cell_type": "code",
   "execution_count": null,
   "metadata": {},
   "outputs": [],
   "source": []
  },
  {
   "cell_type": "code",
   "execution_count": 2,
   "metadata": {},
   "outputs": [],
   "source": [
    "data_dir='../data/uspto50'\n",
    "df = pd.read_pickle(f'{data_dir}/final_data.pickle')"
   ]
  },
  {
   "cell_type": "code",
   "execution_count": 3,
   "metadata": {},
   "outputs": [
    {
     "data": {
      "text/plain": [
       "array(['train', 'valid', 'test'], dtype=object)"
      ]
     },
     "execution_count": 3,
     "metadata": {},
     "output_type": "execute_result"
    }
   ],
   "source": [
    "df['set'].unique()"
   ]
  },
  {
   "cell_type": "code",
   "execution_count": 4,
   "metadata": {},
   "outputs": [
    {
     "data": {
      "text/html": [
       "<div>\n",
       "<style scoped>\n",
       "    .dataframe tbody tr th:only-of-type {\n",
       "        vertical-align: middle;\n",
       "    }\n",
       "\n",
       "    .dataframe tbody tr th {\n",
       "        vertical-align: top;\n",
       "    }\n",
       "\n",
       "    .dataframe thead th {\n",
       "        text-align: right;\n",
       "    }\n",
       "</style>\n",
       "<table border=\"1\" class=\"dataframe\">\n",
       "  <thead>\n",
       "    <tr style=\"text-align: right;\">\n",
       "      <th></th>\n",
       "      <th>reactants_mol</th>\n",
       "      <th>products_mol</th>\n",
       "      <th>reaction_type</th>\n",
       "      <th>set</th>\n",
       "      <th>num_reacts</th>\n",
       "      <th>num_prods</th>\n",
       "      <th>ratio</th>\n",
       "      <th>reactant_token</th>\n",
       "      <th>reactant_bfs_id</th>\n",
       "      <th>reactant_bfs_depth</th>\n",
       "      <th>reactant_dfs_id</th>\n",
       "      <th>reactant_dfs_depth</th>\n",
       "      <th>product_token</th>\n",
       "      <th>product_bfs_id</th>\n",
       "      <th>product_bfs_depth</th>\n",
       "      <th>product_dfs_id</th>\n",
       "      <th>product_dfs_depth</th>\n",
       "    </tr>\n",
       "  </thead>\n",
       "  <tbody>\n",
       "    <tr>\n",
       "      <th>0</th>\n",
       "      <td>[CS(=O)(=O)OC[C@H]1CCC(=O)O1, Fc1ccc(Nc2ncnc3c...</td>\n",
       "      <td>[O=C1CC[C@H](CN2CCN(CCOc3cc4ncnc(Nc5ccc(F)c(Cl...</td>\n",
       "      <td>&lt;RX_1&gt;</td>\n",
       "      <td>train</td>\n",
       "      <td>2</td>\n",
       "      <td>1</td>\n",
       "      <td>1.121951</td>\n",
       "      <td>[[F, c, 1, c, c, c, (, N, c, 2, n, c, n, c, 3,...</td>\n",
       "      <td>[[0, 1, 1, 2, 32, 3, 3, 31, 33, 33, 4, 5, 6, 7...</td>\n",
       "      <td>[[0, 1, 1, 2, 3, 4, 4, 5, 6, 6, 7, 8, 9, 8, 8,...</td>\n",
       "      <td>[[0, 1, 1, 2, 3, 4, 4, 5, 6, 6, 7, 8, 9, 10, 1...</td>\n",
       "      <td>[[0, 1, 1, 2, 3, 4, 4, 5, 6, 6, 7, 8, 9, 8, 8,...</td>\n",
       "      <td>[[O, =, C, 1, C, C, [C@H], (, C, N, 2, C, C, N...</td>\n",
       "      <td>[[0, 0, 1, 1, 2, 40, 3, 3, 4, 5, 5, 6, 7, 39, ...</td>\n",
       "      <td>[[0, 0, 1, 1, 2, 3, 3, 3, 4, 5, 5, 6, 7, 8, 8,...</td>\n",
       "      <td>[[0, 0, 1, 1, 2, 3, 4, 4, 5, 6, 6, 7, 8, 9, 9,...</td>\n",
       "      <td>[[0, 0, 1, 1, 2, 3, 3, 3, 5, 6, 6, 7, 8, 9, 9,...</td>\n",
       "    </tr>\n",
       "    <tr>\n",
       "      <th>1</th>\n",
       "      <td>[COC(=O)c1cc(CCCc2cc3c(=O)[nH]c(N)nc3[nH]2)cs1]</td>\n",
       "      <td>[Nc1nc2[nH]c(CCCc3csc(C(=O)O)c3)cc2c(=O)[nH]1]</td>\n",
       "      <td>&lt;RX_6&gt;</td>\n",
       "      <td>train</td>\n",
       "      <td>1</td>\n",
       "      <td>1</td>\n",
       "      <td>1.045455</td>\n",
       "      <td>[[C, O, C, (, =, O, ), c, 1, c, c, (, C, C, C,...</td>\n",
       "      <td>[[0, 1, 2, 2, 2, 3, 3, 4, 4, 5, 22, 22, 6, 21,...</td>\n",
       "      <td>[[0, 1, 2, 2, 2, 3, 3, 3, 3, 4, 5, 5, 6, 7, 8,...</td>\n",
       "      <td>[[0, 1, 2, 2, 2, 3, 3, 4, 4, 5, 6, 6, 7, 8, 9,...</td>\n",
       "      <td>[[0, 1, 2, 2, 2, 3, 3, 3, 3, 4, 5, 5, 6, 7, 8,...</td>\n",
       "      <td>[[N, c, 1, n, c, 2, [nH], c, (, C, C, C, c, 3,...</td>\n",
       "      <td>[[0, 1, 1, 2, 21, 21, 3, 19, 19, 4, 18, 20, 5,...</td>\n",
       "      <td>[[0, 1, 1, 2, 3, 3, 4, 5, 5, 6, 7, 8, 9, 9, 10...</td>\n",
       "      <td>[[0, 1, 1, 2, 3, 3, 4, 5, 5, 6, 7, 8, 9, 9, 10...</td>\n",
       "      <td>[[0, 1, 1, 2, 3, 3, 4, 5, 5, 6, 7, 8, 9, 9, 10...</td>\n",
       "    </tr>\n",
       "    <tr>\n",
       "      <th>2</th>\n",
       "      <td>[CC1(C)OB(B2OC(C)(C)C(C)(C)O2)OC1(C)C, FC(F)(F...</td>\n",
       "      <td>[CC1(C)OB(c2cccc(Nc3nccc(C(F)(F)F)n3)c2)OC1(C)C]</td>\n",
       "      <td>&lt;RX_9&gt;</td>\n",
       "      <td>train</td>\n",
       "      <td>2</td>\n",
       "      <td>1</td>\n",
       "      <td>1.384615</td>\n",
       "      <td>[[C, C, 1, (, C, ), O, B, (, B, 2, O, C, (, C,...</td>\n",
       "      <td>[[0, 1, 1, 1, 2, 2, 3, 15, 15, 4, 4, 14, 16, 1...</td>\n",
       "      <td>[[0, 1, 1, 1, 2, 2, 2, 3, 3, 4, 4, 5, 6, 6, 7,...</td>\n",
       "      <td>[[0, 1, 1, 1, 2, 2, 3, 4, 4, 5, 5, 6, 7, 7, 8,...</td>\n",
       "      <td>[[0, 1, 1, 1, 2, 2, 2, 3, 3, 4, 4, 5, 6, 6, 7,...</td>\n",
       "      <td>[[C, C, 1, (, C, ), O, B, (, c, 2, c, c, c, c,...</td>\n",
       "      <td>[[0, 1, 1, 1, 2, 2, 3, 23, 23, 4, 4, 22, 24, 2...</td>\n",
       "      <td>[[0, 1, 1, 1, 2, 2, 2, 3, 3, 4, 4, 5, 6, 7, 6,...</td>\n",
       "      <td>[[0, 1, 1, 1, 2, 2, 3, 4, 4, 5, 5, 6, 7, 8, 9,...</td>\n",
       "      <td>[[0, 1, 1, 1, 2, 2, 2, 3, 3, 4, 4, 5, 6, 7, 6,...</td>\n",
       "    </tr>\n",
       "    <tr>\n",
       "      <th>3</th>\n",
       "      <td>[CC(C)(C)OC(=O)NCC(=O)CCC(=O)OCCCC(=O)OCc1ccccc1]</td>\n",
       "      <td>[CC(C)(C)OC(=O)NCC(=O)CCC(=O)OCCCC(=O)O]</td>\n",
       "      <td>&lt;RX_6&gt;</td>\n",
       "      <td>train</td>\n",
       "      <td>1</td>\n",
       "      <td>1</td>\n",
       "      <td>1.318182</td>\n",
       "      <td>[[C, C, (, C, ), (, C, ), O, C, (, =, O, ), N,...</td>\n",
       "      <td>[[0, 1, 1, 2, 2, 2, 3, 3, 4, 5, 5, 5, 6, 6, 7,...</td>\n",
       "      <td>[[0, 1, 1, 2, 2, 2, 2, 2, 2, 3, 3, 3, 4, 4, 4,...</td>\n",
       "      <td>[[0, 1, 1, 2, 2, 2, 3, 3, 4, 5, 5, 5, 6, 6, 7,...</td>\n",
       "      <td>[[0, 1, 1, 2, 2, 2, 2, 2, 2, 3, 3, 3, 4, 4, 4,...</td>\n",
       "      <td>[[C, C, (, C, ), (, C, ), O, C, (, =, O, ), N,...</td>\n",
       "      <td>[[0, 1, 1, 2, 2, 2, 3, 3, 4, 5, 5, 5, 6, 6, 7,...</td>\n",
       "      <td>[[0, 1, 1, 2, 2, 2, 2, 2, 2, 3, 3, 3, 4, 4, 4,...</td>\n",
       "      <td>[[0, 1, 1, 2, 2, 2, 3, 3, 4, 5, 5, 5, 6, 6, 7,...</td>\n",
       "      <td>[[0, 1, 1, 2, 2, 2, 2, 2, 2, 3, 3, 3, 4, 4, 4,...</td>\n",
       "    </tr>\n",
       "    <tr>\n",
       "      <th>4</th>\n",
       "      <td>[Fc1cc2c(Cl)ncnc2cn1, NC1CCCCCC1]</td>\n",
       "      <td>[Fc1cc2c(NC3CCCCCC3)ncnc2cn1]</td>\n",
       "      <td>&lt;RX_1&gt;</td>\n",
       "      <td>train</td>\n",
       "      <td>2</td>\n",
       "      <td>1</td>\n",
       "      <td>1.052632</td>\n",
       "      <td>[[F, c, 1, c, c, 2, c, (, Cl, ), n, c, n, c, 2...</td>\n",
       "      <td>[[0, 1, 1, 2, 11, 11, 3, 3, 10, 10, 4, 9, 5, 6...</td>\n",
       "      <td>[[0, 1, 1, 2, 3, 3, 4, 4, 5, 5, 5, 6, 5, 4, 4,...</td>\n",
       "      <td>[[0, 1, 1, 2, 3, 3, 4, 4, 5, 5, 6, 7, 8, 9, 9,...</td>\n",
       "      <td>[[0, 1, 1, 2, 3, 3, 4, 4, 5, 5, 5, 6, 5, 4, 4,...</td>\n",
       "      <td>[[F, c, 1, c, c, 2, c, (, N, C, 3, C, C, C, C,...</td>\n",
       "      <td>[[0, 1, 1, 2, 18, 18, 3, 3, 17, 4, 4, 16, 5, 1...</td>\n",
       "      <td>[[0, 1, 1, 2, 3, 3, 4, 4, 5, 6, 6, 7, 8, 9, 9,...</td>\n",
       "      <td>[[0, 1, 1, 2, 3, 3, 4, 4, 5, 6, 6, 7, 8, 9, 10...</td>\n",
       "      <td>[[0, 1, 1, 2, 3, 3, 4, 4, 5, 6, 6, 7, 8, 9, 9,...</td>\n",
       "    </tr>\n",
       "  </tbody>\n",
       "</table>\n",
       "</div>"
      ],
      "text/plain": [
       "                                       reactants_mol  \\\n",
       "0  [CS(=O)(=O)OC[C@H]1CCC(=O)O1, Fc1ccc(Nc2ncnc3c...   \n",
       "1    [COC(=O)c1cc(CCCc2cc3c(=O)[nH]c(N)nc3[nH]2)cs1]   \n",
       "2  [CC1(C)OB(B2OC(C)(C)C(C)(C)O2)OC1(C)C, FC(F)(F...   \n",
       "3  [CC(C)(C)OC(=O)NCC(=O)CCC(=O)OCCCC(=O)OCc1ccccc1]   \n",
       "4                  [Fc1cc2c(Cl)ncnc2cn1, NC1CCCCCC1]   \n",
       "\n",
       "                                        products_mol reaction_type    set  \\\n",
       "0  [O=C1CC[C@H](CN2CCN(CCOc3cc4ncnc(Nc5ccc(F)c(Cl...        <RX_1>  train   \n",
       "1     [Nc1nc2[nH]c(CCCc3csc(C(=O)O)c3)cc2c(=O)[nH]1]        <RX_6>  train   \n",
       "2   [CC1(C)OB(c2cccc(Nc3nccc(C(F)(F)F)n3)c2)OC1(C)C]        <RX_9>  train   \n",
       "3           [CC(C)(C)OC(=O)NCC(=O)CCC(=O)OCCCC(=O)O]        <RX_6>  train   \n",
       "4                      [Fc1cc2c(NC3CCCCCC3)ncnc2cn1]        <RX_1>  train   \n",
       "\n",
       "   num_reacts  num_prods     ratio  \\\n",
       "0           2          1  1.121951   \n",
       "1           1          1  1.045455   \n",
       "2           2          1  1.384615   \n",
       "3           1          1  1.318182   \n",
       "4           2          1  1.052632   \n",
       "\n",
       "                                      reactant_token  \\\n",
       "0  [[F, c, 1, c, c, c, (, N, c, 2, n, c, n, c, 3,...   \n",
       "1  [[C, O, C, (, =, O, ), c, 1, c, c, (, C, C, C,...   \n",
       "2  [[C, C, 1, (, C, ), O, B, (, B, 2, O, C, (, C,...   \n",
       "3  [[C, C, (, C, ), (, C, ), O, C, (, =, O, ), N,...   \n",
       "4  [[F, c, 1, c, c, 2, c, (, Cl, ), n, c, n, c, 2...   \n",
       "\n",
       "                                     reactant_bfs_id  \\\n",
       "0  [[0, 1, 1, 2, 32, 3, 3, 31, 33, 33, 4, 5, 6, 7...   \n",
       "1  [[0, 1, 2, 2, 2, 3, 3, 4, 4, 5, 22, 22, 6, 21,...   \n",
       "2  [[0, 1, 1, 1, 2, 2, 3, 15, 15, 4, 4, 14, 16, 1...   \n",
       "3  [[0, 1, 1, 2, 2, 2, 3, 3, 4, 5, 5, 5, 6, 6, 7,...   \n",
       "4  [[0, 1, 1, 2, 11, 11, 3, 3, 10, 10, 4, 9, 5, 6...   \n",
       "\n",
       "                                  reactant_bfs_depth  \\\n",
       "0  [[0, 1, 1, 2, 3, 4, 4, 5, 6, 6, 7, 8, 9, 8, 8,...   \n",
       "1  [[0, 1, 2, 2, 2, 3, 3, 3, 3, 4, 5, 5, 6, 7, 8,...   \n",
       "2  [[0, 1, 1, 1, 2, 2, 2, 3, 3, 4, 4, 5, 6, 6, 7,...   \n",
       "3  [[0, 1, 1, 2, 2, 2, 2, 2, 2, 3, 3, 3, 4, 4, 4,...   \n",
       "4  [[0, 1, 1, 2, 3, 3, 4, 4, 5, 5, 5, 6, 5, 4, 4,...   \n",
       "\n",
       "                                     reactant_dfs_id  \\\n",
       "0  [[0, 1, 1, 2, 3, 4, 4, 5, 6, 6, 7, 8, 9, 10, 1...   \n",
       "1  [[0, 1, 2, 2, 2, 3, 3, 4, 4, 5, 6, 6, 7, 8, 9,...   \n",
       "2  [[0, 1, 1, 1, 2, 2, 3, 4, 4, 5, 5, 6, 7, 7, 8,...   \n",
       "3  [[0, 1, 1, 2, 2, 2, 3, 3, 4, 5, 5, 5, 6, 6, 7,...   \n",
       "4  [[0, 1, 1, 2, 3, 3, 4, 4, 5, 5, 6, 7, 8, 9, 9,...   \n",
       "\n",
       "                                  reactant_dfs_depth  \\\n",
       "0  [[0, 1, 1, 2, 3, 4, 4, 5, 6, 6, 7, 8, 9, 8, 8,...   \n",
       "1  [[0, 1, 2, 2, 2, 3, 3, 3, 3, 4, 5, 5, 6, 7, 8,...   \n",
       "2  [[0, 1, 1, 1, 2, 2, 2, 3, 3, 4, 4, 5, 6, 6, 7,...   \n",
       "3  [[0, 1, 1, 2, 2, 2, 2, 2, 2, 3, 3, 3, 4, 4, 4,...   \n",
       "4  [[0, 1, 1, 2, 3, 3, 4, 4, 5, 5, 5, 6, 5, 4, 4,...   \n",
       "\n",
       "                                       product_token  \\\n",
       "0  [[O, =, C, 1, C, C, [C@H], (, C, N, 2, C, C, N...   \n",
       "1  [[N, c, 1, n, c, 2, [nH], c, (, C, C, C, c, 3,...   \n",
       "2  [[C, C, 1, (, C, ), O, B, (, c, 2, c, c, c, c,...   \n",
       "3  [[C, C, (, C, ), (, C, ), O, C, (, =, O, ), N,...   \n",
       "4  [[F, c, 1, c, c, 2, c, (, N, C, 3, C, C, C, C,...   \n",
       "\n",
       "                                      product_bfs_id  \\\n",
       "0  [[0, 0, 1, 1, 2, 40, 3, 3, 4, 5, 5, 6, 7, 39, ...   \n",
       "1  [[0, 1, 1, 2, 21, 21, 3, 19, 19, 4, 18, 20, 5,...   \n",
       "2  [[0, 1, 1, 1, 2, 2, 3, 23, 23, 4, 4, 22, 24, 2...   \n",
       "3  [[0, 1, 1, 2, 2, 2, 3, 3, 4, 5, 5, 5, 6, 6, 7,...   \n",
       "4  [[0, 1, 1, 2, 18, 18, 3, 3, 17, 4, 4, 16, 5, 1...   \n",
       "\n",
       "                                   product_bfs_depth  \\\n",
       "0  [[0, 0, 1, 1, 2, 3, 3, 3, 4, 5, 5, 6, 7, 8, 8,...   \n",
       "1  [[0, 1, 1, 2, 3, 3, 4, 5, 5, 6, 7, 8, 9, 9, 10...   \n",
       "2  [[0, 1, 1, 1, 2, 2, 2, 3, 3, 4, 4, 5, 6, 7, 6,...   \n",
       "3  [[0, 1, 1, 2, 2, 2, 2, 2, 2, 3, 3, 3, 4, 4, 4,...   \n",
       "4  [[0, 1, 1, 2, 3, 3, 4, 4, 5, 6, 6, 7, 8, 9, 9,...   \n",
       "\n",
       "                                      product_dfs_id  \\\n",
       "0  [[0, 0, 1, 1, 2, 3, 4, 4, 5, 6, 6, 7, 8, 9, 9,...   \n",
       "1  [[0, 1, 1, 2, 3, 3, 4, 5, 5, 6, 7, 8, 9, 9, 10...   \n",
       "2  [[0, 1, 1, 1, 2, 2, 3, 4, 4, 5, 5, 6, 7, 8, 9,...   \n",
       "3  [[0, 1, 1, 2, 2, 2, 3, 3, 4, 5, 5, 5, 6, 6, 7,...   \n",
       "4  [[0, 1, 1, 2, 3, 3, 4, 4, 5, 6, 6, 7, 8, 9, 10...   \n",
       "\n",
       "                                   product_dfs_depth  \n",
       "0  [[0, 0, 1, 1, 2, 3, 3, 3, 5, 6, 6, 7, 8, 9, 9,...  \n",
       "1  [[0, 1, 1, 2, 3, 3, 4, 5, 5, 6, 7, 8, 9, 9, 10...  \n",
       "2  [[0, 1, 1, 1, 2, 2, 2, 3, 3, 4, 4, 5, 6, 7, 6,...  \n",
       "3  [[0, 1, 1, 2, 2, 2, 2, 2, 2, 3, 3, 3, 4, 4, 4,...  \n",
       "4  [[0, 1, 1, 2, 3, 3, 4, 4, 5, 6, 6, 7, 8, 9, 9,...  "
      ]
     },
     "execution_count": 4,
     "metadata": {},
     "output_type": "execute_result"
    }
   ],
   "source": [
    "df.head()"
   ]
  },
  {
   "cell_type": "code",
   "execution_count": 5,
   "metadata": {},
   "outputs": [],
   "source": [
    "reactant_token = df['reactant_token'].to_list()\n",
    "num_reactans = [len(r) for r in reactant_token]\n",
    "reactant_token = [sub_entry for entry in reactant_token for sub_entry in entry]"
   ]
  },
  {
   "cell_type": "code",
   "execution_count": 6,
   "metadata": {},
   "outputs": [
    {
     "data": {
      "text/plain": [
       "85538"
      ]
     },
     "execution_count": 6,
     "metadata": {},
     "output_type": "execute_result"
    }
   ],
   "source": [
    "len(reactant_token)"
   ]
  },
  {
   "cell_type": "code",
   "execution_count": 7,
   "metadata": {},
   "outputs": [],
   "source": [
    "product_token = df['product_token'].to_list()\n",
    "product_token  = [sub_entry for i, entry in enumerate(product_token) for sub_entry in entry for _ in range(num_reactans[i])]"
   ]
  },
  {
   "cell_type": "code",
   "execution_count": 8,
   "metadata": {},
   "outputs": [
    {
     "data": {
      "text/plain": [
       "85538"
      ]
     },
     "execution_count": 8,
     "metadata": {},
     "output_type": "execute_result"
    }
   ],
   "source": [
    "len(product_token)"
   ]
  },
  {
   "cell_type": "code",
   "execution_count": 9,
   "metadata": {},
   "outputs": [],
   "source": [
    "product_bfs_pos = df['product_bfs_depth'].to_list()"
   ]
  },
  {
   "cell_type": "code",
   "execution_count": 10,
   "metadata": {},
   "outputs": [
    {
     "data": {
      "text/plain": [
       "85538"
      ]
     },
     "execution_count": 10,
     "metadata": {},
     "output_type": "execute_result"
    }
   ],
   "source": [
    "len([sub_entry for i, entry in enumerate(product_bfs_pos) for sub_entry in entry for _ in range(num_reactans[i])])"
   ]
  },
  {
   "cell_type": "code",
   "execution_count": null,
   "metadata": {},
   "outputs": [],
   "source": []
  },
  {
   "cell_type": "code",
   "execution_count": 11,
   "metadata": {},
   "outputs": [],
   "source": [
    "from uspto_ifn import USPTO50"
   ]
  },
  {
   "cell_type": "code",
   "execution_count": 12,
   "metadata": {},
   "outputs": [],
   "source": [
    "uspto = USPTO50(data_dir='../data/uspto50', split='valid', to_gen=-1)"
   ]
  },
  {
   "cell_type": "code",
   "execution_count": 34,
   "metadata": {},
   "outputs": [
    {
     "data": {
      "text/plain": [
       "234494"
      ]
     },
     "execution_count": 34,
     "metadata": {},
     "output_type": "execute_result"
    }
   ],
   "source": [
    "len(uspto)"
   ]
  },
  {
   "cell_type": "code",
   "execution_count": 13,
   "metadata": {},
   "outputs": [],
   "source": [
    "dataloader = DataLoader(uspto, batch_size=5, collate_fn=uspto.collate_fn)"
   ]
  },
  {
   "cell_type": "code",
   "execution_count": 14,
   "metadata": {},
   "outputs": [],
   "source": [
    "dp = next(iter(dataloader))"
   ]
  },
  {
   "cell_type": "code",
   "execution_count": 15,
   "metadata": {},
   "outputs": [
    {
     "data": {
      "text/plain": [
       "8"
      ]
     },
     "execution_count": 15,
     "metadata": {},
     "output_type": "execute_result"
    }
   ],
   "source": [
    "len(dp)"
   ]
  },
  {
   "cell_type": "code",
   "execution_count": 16,
   "metadata": {},
   "outputs": [
    {
     "name": "stdout",
     "output_type": "stream",
     "text": [
      "torch.Size([5, 39])\n",
      "torch.Size([5, 55])\n",
      "torch.Size([5, 55])\n",
      "torch.Size([5, 39])\n",
      "torch.Size([5, 39])\n",
      "torch.Size([5, 55])\n",
      "torch.Size([5, 55])\n",
      "torch.Size([5, 1])\n"
     ]
    }
   ],
   "source": [
    "reactants, products, mask, reactant_bfs_pos, reactant_dfs_pos, product_bfs_pos, product_dfs_pos, mol_id = dp\n",
    "print(reactants.size())\n",
    "print(products.size())\n",
    "print(mask.size())\n",
    "print(reactant_bfs_pos.size())\n",
    "print(reactant_dfs_pos.size())\n",
    "print(product_bfs_pos.size())\n",
    "print(product_dfs_pos.size())\n",
    "print(mol_id.size())"
   ]
  },
  {
   "cell_type": "code",
   "execution_count": 31,
   "metadata": {},
   "outputs": [
    {
     "data": {
      "text/plain": [
       "tensor([ 0,  4, 10,  7, 10, 10, 10, 10,  2,  0,  2,  3,  4,  5,  4,  5, 10,  7,\n",
       "        89, 99, 99, 99, 99, 99, 99, 99, 99, 99, 99, 99, 99, 99, 99, 99, 99, 99,\n",
       "        99, 99])"
      ]
     },
     "execution_count": 31,
     "metadata": {},
     "output_type": "execute_result"
    }
   ],
   "source": [
    "reactants[0, 1:]"
   ]
  },
  {
   "cell_type": "code",
   "execution_count": 30,
   "metadata": {},
   "outputs": [
    {
     "data": {
      "text/plain": [
       "tensor([ 1,  2,  3,  3,  4,  5,  6,  5,  5,  6,  6,  6,  7,  7,  7,  7,  4,  4,\n",
       "        92, 92, 92, 92, 92, 92, 92, 92, 92, 92, 92, 92, 92, 92, 92, 92, 92, 92,\n",
       "        92, 92])"
      ]
     },
     "execution_count": 30,
     "metadata": {},
     "output_type": "execute_result"
    }
   ],
   "source": [
    "reactant_bfs_pos[0, 1:]"
   ]
  },
  {
   "cell_type": "code",
   "execution_count": 29,
   "metadata": {},
   "outputs": [
    {
     "data": {
      "text/plain": [
       "tensor([ 1,  2,  3,  3,  4,  5,  6,  5,  5,  6,  6,  6,  9,  9,  9,  9,  4,  4,\n",
       "        92, 92, 92, 92, 92, 92, 92, 92, 92, 92, 92, 92, 92, 92, 92, 92, 92, 92,\n",
       "        92, 92])"
      ]
     },
     "execution_count": 29,
     "metadata": {},
     "output_type": "execute_result"
    }
   ],
   "source": [
    "reactant_dfs_pos[0, 1:]"
   ]
  },
  {
   "cell_type": "code",
   "execution_count": 33,
   "metadata": {},
   "outputs": [
    {
     "name": "stdout",
     "output_type": "stream",
     "text": [
      "['C', 'O', 'c', '1', 'c', 'c', 'c', 'c', '(', 'C', '(', '=', 'O', ')', 'O', ')', 'c', '1', '<eor>', '<pad>', '<pad>', '<pad>', '<pad>', '<pad>', '<pad>', '<pad>', '<pad>', '<pad>', '<pad>', '<pad>', '<pad>', '<pad>', '<pad>', '<pad>', '<pad>', '<pad>', '<pad>', '<pad>']\n"
     ]
    }
   ],
   "source": [
    "print([uspto.token_decoder[i] for i in reactants[0]][1:])"
   ]
  },
  {
   "cell_type": "code",
   "execution_count": 28,
   "metadata": {},
   "outputs": [
    {
     "data": {
      "image/png": "[encoded data removed]",
      "text/plain": [
       "<rdkit.Chem.rdchem.Mol at 0x7f74c96504a0>"
      ]
     },
     "execution_count": 28,
     "metadata": {},
     "output_type": "execute_result"
    }
   ],
   "source": [
    "mol = Chem.MolFromSmiles('COc1cccc(C(=O)O)c1')\n",
    "mol"
   ]
  },
  {
   "cell_type": "code",
   "execution_count": null,
   "metadata": {},
   "outputs": [],
   "source": []
  }
 ],
 "metadata": {
  "kernelspec": {
   "display_name": "pytorch2",
   "language": "python",
   "name": "python3"
  },
  "language_info": {
   "codemirror_mode": {
    "name": "ipython",
    "version": 3
   },
   "file_extension": ".py",
   "mimetype": "text/x-python",
   "name": "python",
   "nbconvert_exporter": "python",
   "pygments_lexer": "ipython3",
   "version": "3.10.11"
  },
  "orig_nbformat": 4
 },
 "nbformat": 4,
 "nbformat_minor": 2
}

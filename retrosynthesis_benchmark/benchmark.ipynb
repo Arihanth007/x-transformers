{
 "cells": [
  {
   "cell_type": "code",
   "execution_count": 1,
   "metadata": {},
   "outputs": [],
   "source": [
    "import pandas as pd\n",
    "from tqdm import tqdm\n",
    "from prettytable import PrettyTable\n",
    "\n",
    "from rdkit import Chem\n",
    "from rdkit.Chem import Draw\n",
    "from rdkit import DataStructs\n",
    "from rdkit.Chem import AllChem\n",
    "from rdkit import RDLogger\n",
    "\n",
    "import numpy as np\n",
    "import seaborn as sns\n",
    "\n",
    "from typing import Optional, Union, Tuple\n",
    "\n",
    "RDLogger.DisableLog('rdApp.*')"
   ]
  },
  {
   "cell_type": "code",
   "execution_count": 2,
   "metadata": {},
   "outputs": [],
   "source": [
    "template_codes = [f'<RX_{i+1}>' for i in range(10)]\n",
    "\n",
    "template_names = [\n",
    "    'Heteroatom alkylation and arylation',\n",
    "    'Acylation and related processes',\n",
    "    'C-C bond formation',\n",
    "    'Heterocycle formation',\n",
    "    'Protections',\n",
    "    'Deprotections',\n",
    "    'Reductions',\n",
    "    'Oxidations',\n",
    "    'Functional group conversions (FGI)',\n",
    "    'Functional group additions (FGA)'\n",
    "]"
   ]
  },
  {
   "cell_type": "code",
   "execution_count": 3,
   "metadata": {},
   "outputs": [],
   "source": [
    "def smi2validmol(smi: str) -> Optional[Chem.Mol]:\n",
    "    '''\n",
    "    converts a SMILES string to a valid RDKit molecule\n",
    "    smi: SMILES string\n",
    "    returns: RDKit molecule\n",
    "    '''\n",
    "    mol = Chem.MolFromSmiles(smi)\n",
    "    if mol is None:\n",
    "        return None\n",
    "    try:\n",
    "        Chem.SanitizeMol(mol)\n",
    "    except ValueError:\n",
    "        return None\n",
    "    return mol\n",
    "\n",
    "def concat_molecules(mol_list: list) -> Optional[Chem.Mol]:\n",
    "    '''\n",
    "    concatenates a list of molecules into a single molecule\n",
    "    mol_list: list of molecules\n",
    "    returns: concatenated molecule\n",
    "    '''\n",
    "    try:\n",
    "        concat_mol = Chem.MolFromSmiles('.'.join([Chem.MolToSmiles(mol) for mol in mol_list]))\n",
    "        return concat_mol\n",
    "    except:\n",
    "        return None\n",
    "    \n",
    "def filter_small_mols(mol_list: list[Chem.Mol], min_atoms: int=3) -> list[Chem.Mol]:\n",
    "    '''\n",
    "    filters a list of molecules by minumim number of atoms\n",
    "    mol_list: list of molecules\n",
    "    min_atoms: minimum number of atoms\n",
    "    returns: filtered list of molecules\n",
    "    '''\n",
    "    filtered_mols = []\n",
    "    for mol in mol_list:\n",
    "        if mol.GetNumAtoms() >= min_atoms:\n",
    "            filtered_mols.append(mol)\n",
    "    return filtered_mols\n",
    "    \n",
    "def compute_accuracy(target: list[str], predicted: list[str], min_atoms: int=-1) -> Tuple[float, float, float, list[str]]:\n",
    "    '''\n",
    "    finds the accuracy of a list of predicted SMILES strings\n",
    "    target: list of target SMILES strings\n",
    "    predicted: list of predicted SMILES strings\n",
    "    min_atoms: minimum number of atoms in a molecule\n",
    "    returns: accuracy, partial accuracy, list of correct SMILES strings\n",
    "    '''\n",
    "    target_mols = [smi2validmol(smi) for smi in target]\n",
    "    predicted_mols = [smi2validmol(smi) for smi in predicted]\n",
    "    \n",
    "    # Remove None values\n",
    "    target_mols = [mol for mol in target_mols if mol is not None]\n",
    "    predicted_mols = [mol for mol in predicted_mols if mol is not None]\n",
    "\n",
    "    # filter small molecules\n",
    "    target_mols = filter_small_mols(target_mols, min_atoms=min_atoms) if min_atoms > 0 else target_mols\n",
    "    predicted_mols = filter_small_mols(predicted_mols, min_atoms=min_atoms) if min_atoms > 0 else predicted_mols\n",
    "\n",
    "    # ensure that there are molecules in both lists\n",
    "    if len(target_mols) == 0 or len(predicted_mols) == 0:\n",
    "        return 0, 0, 0, []\n",
    "\n",
    "    interesting_molecules = []\n",
    "    correct = 0\n",
    "    adjusted_correct = 0\n",
    "    for p_mol in predicted_mols:\n",
    "        for t_mol in target_mols:\n",
    "            p_smi = Chem.CanonSmiles(Chem.MolToSmiles(p_mol))\n",
    "            t_smi = Chem.CanonSmiles(Chem.MolToSmiles(t_mol))\n",
    "            if t_mol.HasSubstructMatch(p_mol) and p_mol.HasSubstructMatch(t_mol):\n",
    "                if p_smi == t_smi:\n",
    "                    correct += 1\n",
    "                else:\n",
    "                    interesting_molecules.append((t_smi, p_smi))\n",
    "                adjusted_correct += 1\n",
    "    accuracy = float(correct == len(target_mols) and len(target_mols) == len(predicted_mols))\n",
    "    adjusted_accuracy = float(adjusted_correct == len(target_mols) and len(target_mols) == len(predicted_mols))\n",
    "    partial_accuracy = correct/len(target_mols)\n",
    "    \n",
    "    return accuracy, adjusted_accuracy, partial_accuracy, interesting_molecules\n",
    "\n",
    "def halogen_correction(target: list[str], predicted: list[str], min_atoms: int=-1) -> Tuple[float, float, float, list[str]]:\n",
    "    '''\n",
    "    replaces all halogens in the target and predicted SMILES strings with iodine and computes the accuracy\n",
    "    target: list of target SMILES strings\n",
    "    predicted: list of predicted SMILES strings\n",
    "    min_atoms: minimum number of atoms in a molecule\n",
    "    returns: accuracy, partial accuracy, list of correct SMILES strings\n",
    "    '''\n",
    "    halogens = ['F', 'Cl', 'Br', 'I', 'At', 'Ts']\n",
    "    halogen_rep = 'I'\n",
    "\n",
    "    for halogen in halogens:\n",
    "        target = [smi.replace(halogen, halogen_rep) for smi in target]\n",
    "        predicted = [smi.replace(halogen, halogen_rep) for smi in predicted]\n",
    "\n",
    "    return compute_accuracy(target, predicted, min_atoms=min_atoms)\n",
    "\n",
    "def compute_tanimoto(target: list[str], predicted: list[str], min_atoms: int=-1) -> float:\n",
    "    '''\n",
    "    computes the tanimoto similarity between the target and predicted SMILES strings\n",
    "    target: list of target SMILES strings\n",
    "    predicted: list of predicted SMILES strings\n",
    "    min_atoms: minimum number of atoms in a molecule\n",
    "    returns: tanimoto similarity\n",
    "    '''\n",
    "    target_mols = [smi2validmol(smi) for smi in target]\n",
    "    predicted_mols = [smi2validmol(smi) for smi in predicted]\n",
    "    \n",
    "    # Remove None values\n",
    "    target_mols = [mol for mol in target_mols if mol is not None]\n",
    "    predicted_mols = [mol for mol in predicted_mols if mol is not None]\n",
    "\n",
    "    # filter small molecules\n",
    "    target_mols = filter_small_mols(target_mols, min_atoms=min_atoms) if min_atoms > 0 else target_mols\n",
    "    predicted_mols = filter_small_mols(predicted_mols, min_atoms=min_atoms) if min_atoms > 0 else predicted_mols\n",
    "\n",
    "    # concatenate molecules\n",
    "    target_mol_concat = concat_molecules(target_mols)\n",
    "    predicted_mol_concat = concat_molecules(predicted_mols)\n",
    "\n",
    "    if target_mol_concat is not None and predicted_mol_concat is not None:\n",
    "        t_fp = AllChem.GetMorganFingerprintAsBitVect(target_mol_concat, 3, nBits=2048)\n",
    "        p_fp = AllChem.GetMorganFingerprintAsBitVect(predicted_mol_concat, 3, nBits=2048)\n",
    "        return DataStructs.TanimotoSimilarity(t_fp, p_fp)\n",
    "    else:\n",
    "        return 0.0"
   ]
  },
  {
   "cell_type": "code",
   "execution_count": 4,
   "metadata": {},
   "outputs": [],
   "source": [
    "def get_metrics(target_list: list[list[str]], predicted_list: list[list[str]], \n",
    "                apply_halogen_correction: bool=False, min_atoms: int=-1) -> Tuple[list[float], list[float], list[float], list[float], list[str]]:\n",
    "    '''\n",
    "    computes the accuracy, partial accuracy, and tanimoto similarity for a list of target and predicted SMILES strings\n",
    "    target_list: list of target SMILES strings\n",
    "    predicted_list: list of predicted SMILES strings\n",
    "    apply_halogen_correction: whether to apply halogen correction\n",
    "    min_atoms: minimum number of atoms in a molecule\n",
    "    returns: accuracy, partial accuracy, tanimoto similarity\n",
    "    '''\n",
    "    accuracy_list = []\n",
    "    adjusted_accuracy_list = []\n",
    "    partial_accuracy_list = []\n",
    "    tanimoto_list = []\n",
    "    interesting_molecules = []\n",
    "    for target, predicted in tqdm(zip(target_list, predicted_list), total=len(target_list), desc=f'Computing metrics with halogen correction {apply_halogen_correction}'):\n",
    "        accuracy, adjusted_accuracy, partial_accuracy, i_mols = compute_accuracy(target, predicted, min_atoms) if not apply_halogen_correction else halogen_correction(target, predicted, min_atoms)\n",
    "        accuracy_list.append(accuracy)\n",
    "        adjusted_accuracy_list.append(adjusted_accuracy)\n",
    "        partial_accuracy_list.append(partial_accuracy)\n",
    "        interesting_molecules.extend(i_mols)\n",
    "        # compute tanimoto similarity only for mistakes\n",
    "        tanimoto_list.append(compute_tanimoto(target, predicted, min_atoms) if accuracy == 0 else 0.5)\n",
    "    return accuracy_list, adjusted_accuracy_list, partial_accuracy_list, tanimoto_list, interesting_molecules"
   ]
  },
  {
   "cell_type": "code",
   "execution_count": 5,
   "metadata": {},
   "outputs": [],
   "source": [
    "def compute_score(accuracy_list: list[float], adjusted_accuracy_list: list[float], partial_accuracy_list: list[float], tanimoto_list: list[float], \n",
    "                  weights: list[float]) -> float:\n",
    "    '''\n",
    "    computes the score for a list of accuracy, partial accuracy, and tanimoto similarity values\n",
    "    accuracy_list: list of accuracy values\n",
    "    partial_accuracy_list: list of partial accuracy values\n",
    "    tanimoto_list: list of tanimoto similarity values\n",
    "    weights: list of weights for the accuracy, partial accuracy, and tanimoto similarity values\n",
    "    returns: weighted score\n",
    "    '''\n",
    "\n",
    "    weights = np.exp(weights)/np.sum(np.exp(weights))\n",
    "    assert len(weights) == 4, 'weights must be a list of length 4'\n",
    "    assert np.isclose(np.sum(weights), 1.0), 'weights must sum to 1'\n",
    "\n",
    "    score = np.mean([accuracy_list, adjusted_accuracy_list, partial_accuracy_list, tanimoto_list], axis=1) @ weights\n",
    "    return score"
   ]
  },
  {
   "cell_type": "code",
   "execution_count": 6,
   "metadata": {},
   "outputs": [],
   "source": [
    "def print_scores(accuracy_list: list[float], adjusted_accuracy_list: list[float], partial_accuracy_list: list[float], tanimoto_list: list[float],\n",
    "                 accuracy_list_hc: list[float], adjusted_accuracy_list_hc: list[float], partial_accuracy_list_hc: list[float], tanimoto_list_hc: list[float],\n",
    "                 weights: list[float], table_name: str) -> None:\n",
    "    '''\n",
    "    prints the scores for a list of accuracy, partial accuracy, and tanimoto similarity values\n",
    "    accuracy_list: list of accuracy values\n",
    "    partial_accuracy_list: list of partial accuracy values\n",
    "    tanimoto_list: list of tanimoto similarity values\n",
    "    accuracy_list_hc: list of accuracy values with halogen correction\n",
    "    partial_accuracy_list_hc: list of partial accuracy values with halogen correction\n",
    "    tanimoto_list_hc: list of tanimoto similarity values with halogen correction\n",
    "    weights: list of weights for the accuracy, partial accuracy, and tanimoto similarity values\n",
    "    table_name: name of the table\n",
    "    '''\n",
    "\n",
    "    # stats over normal computation\n",
    "    acc = np.mean(accuracy_list)\n",
    "    a_acc = np.mean(adjusted_accuracy_list)\n",
    "    p_acc = np.mean(partial_accuracy_list)\n",
    "    tan = np.mean(tanimoto_list)\n",
    "    \n",
    "    # stats over halogen replacement\n",
    "    acc_hc = np.mean(accuracy_list_hc)\n",
    "    a_acc_hc = np.mean(adjusted_accuracy_list_hc)\n",
    "    p_acc_hc = np.mean(partial_accuracy_list_hc)\n",
    "    tan_hc = np.mean(tanimoto_list_hc)\n",
    "    \n",
    "    # weighted scores\n",
    "    score = compute_score(accuracy_list, adjusted_accuracy_list, partial_accuracy_list, tanimoto_list, weights=weights)\n",
    "    score_hc = compute_score(accuracy_list_hc, adjusted_accuracy_list_hc, partial_accuracy_list_hc, tanimoto_list_hc, weights=weights)\n",
    "\n",
    "    # print scores using pretty table\n",
    "    table = PrettyTable()\n",
    "    table.title = f'Computed Metrics for {table_name}'\n",
    "    table.field_names = ['Metric', 'Original', 'Halogen Correction', 'Final Index']\n",
    "    table.add_row(['Accuracy', f'{acc:.3f}', f'{acc_hc:.3f}', f'{(acc_hc+acc)/2:.3f}'])\n",
    "    table.add_row(['Adjusted Accuracy', f'{a_acc:.3f}', f'{a_acc_hc:.3f}', f'{(a_acc_hc+a_acc)/2:.3f}'])\n",
    "    table.add_row(['Partial Accuracy', f'{p_acc:.3f}', f'{p_acc_hc:.3f}', f'{(p_acc_hc+p_acc)/2:.3f}'])\n",
    "    table.add_row(['Adjusted Tanimoto', f'{tan:.3f}', f'{tan_hc:.3f}', f'{(tan_hc+tan)/2:.3f}'])\n",
    "    table.add_row(['Our Score', f'{score:.3f}', f'{score_hc:.3f}', f'{(score_hc+score)/2:.3f}'])\n",
    "    print(table)"
   ]
  },
  {
   "cell_type": "code",
   "execution_count": 7,
   "metadata": {},
   "outputs": [],
   "source": [
    "class Metrics:\n",
    "    def __init__(self, target_list: list[list[str]], predicted_list: list[list[str]],  table_name: str, weights: list[float]=[1, 1, 1], min_atoms: int=-1):\n",
    "        '''\n",
    "        computes the accuracy, partial accuracy, and tanimoto similarity for a list of target and predicted SMILES strings\n",
    "        target_list: list of target SMILES strings\n",
    "        predicted_list: list of predicted SMILES strings\n",
    "        table_name: name of the table\n",
    "        weights: list of weights for the accuracy, partial accuracy, and tanimoto similarity values\n",
    "        min_atoms: minimum number of atoms in a molecule\n",
    "        '''\n",
    "        self.target_list = target_list\n",
    "        self.predicted_list = predicted_list\n",
    "        self.table_name = table_name\n",
    "        self.weights = weights\n",
    "        self.min_atoms = min_atoms\n",
    "\n",
    "        self.accuracy_list, self.adjusted_accuracy_list, self.partial_accuracy_list, self.tanimoto_list, self.interesting_molecules = get_metrics(target_list, predicted_list, apply_halogen_correction=False, min_atoms=min_atoms)\n",
    "        self.accuracy_list_hc, self.adjusted_accuracy_list_hc, self.partial_accuracy_list_hc, self.tanimoto_list_hc, self.interesting_molecules_hc = get_metrics(target_list, predicted_list, apply_halogen_correction=True, min_atoms=min_atoms)\n",
    "\n",
    "    def print_metrics(self, weights=None) -> None:\n",
    "        '''\n",
    "        prints the scores for a list of accuracy, partial accuracy, and tanimoto similarity values\n",
    "        weights: list of weights for the accuracy, partial accuracy, and tanimoto similarity values\n",
    "        '''\n",
    "        weights = self.weights if weights is None else weights\n",
    "        print_scores(self.accuracy_list, self.adjusted_accuracy_list, self.partial_accuracy_list, self.tanimoto_list,\n",
    "                     self.accuracy_list_hc, self.adjusted_accuracy_list_hc, self.partial_accuracy_list_hc, self.tanimoto_list_hc,\n",
    "                     weights, self.table_name)"
   ]
  },
  {
   "cell_type": "markdown",
   "metadata": {},
   "source": [
    "# My LLM"
   ]
  },
  {
   "cell_type": "code",
   "execution_count": 9,
   "metadata": {},
   "outputs": [],
   "source": [
    "df_llm = pd.read_csv('../x-transformers/results/best_model_test.csv')\n",
    "\n",
    "# convert concatenated SMILES strings to lists of SMILES strings\n",
    "target_list_chem = df_llm.apply(lambda x: x['target_smiles'].split('.'), axis=1).tolist()\n",
    "predicted_list_chem = df_llm.apply(lambda x: x['predicted_smiles'].split('.'), axis=1).tolist()"
   ]
  },
  {
   "cell_type": "code",
   "execution_count": 11,
   "metadata": {},
   "outputs": [
    {
     "name": "stderr",
     "output_type": "stream",
     "text": [
      "Computing metrics with halogen correction False: 100%|██████████| 5004/5004 [00:10<00:00, 497.10it/s]\n",
      "Computing metrics with halogen correction True: 100%|██████████| 5004/5004 [00:09<00:00, 500.80it/s]\n"
     ]
    }
   ],
   "source": [
    "LLMMetrics = Metrics(target_list_chem, predicted_list_chem, 'My LLM')"
   ]
  },
  {
   "cell_type": "code",
   "execution_count": 12,
   "metadata": {},
   "outputs": [
    {
     "name": "stdout",
     "output_type": "stream",
     "text": [
      "+-----------------------------------------------------------------+\n",
      "|                   Computed Metrics for My LLM                   |\n",
      "+-------------------+----------+--------------------+-------------+\n",
      "|       Metric      | Original | Halogen Correction | Final Index |\n",
      "+-------------------+----------+--------------------+-------------+\n",
      "|      Accuracy     |  0.494   |       0.522        |    0.508    |\n",
      "| Adjusted Accuracy |  0.509   |       0.538        |    0.523    |\n",
      "|  Partial Accuracy |  0.559   |       0.575        |    0.567    |\n",
      "| Adjusted Tanimoto |  0.524   |       0.517        |    0.520    |\n",
      "|     Our Score     |  0.522   |       0.538        |    0.530    |\n",
      "+-------------------+----------+--------------------+-------------+\n"
     ]
    }
   ],
   "source": [
    "LLMMetrics.print_metrics([1,1,1,1])"
   ]
  },
  {
   "cell_type": "markdown",
   "metadata": {},
   "source": [
    "# Chemformer"
   ]
  },
  {
   "cell_type": "code",
   "execution_count": 8,
   "metadata": {},
   "outputs": [],
   "source": [
    "df_chem = pd.read_pickle('chemformer/chemformer_pred_test_50.pickle')\n",
    "df_chem = df_chem.rename(columns={'original_smiles': 'target_smiles', 'prediction_0': 'predicted_smiles'})\n",
    "\n",
    "# convert concatenated SMILES strings to lists of SMILES strings\n",
    "target_list_chem = df_chem.apply(lambda x: x['target_smiles'].split('.'), axis=1).tolist()\n",
    "predicted_list_chem = df_chem.apply(lambda x: x['predicted_smiles'].split('.'), axis=1).tolist()"
   ]
  },
  {
   "cell_type": "code",
   "execution_count": 9,
   "metadata": {},
   "outputs": [
    {
     "name": "stderr",
     "output_type": "stream",
     "text": [
      "Computing metrics with halogen correction False: 100%|██████████| 5004/5004 [00:13<00:00, 358.49it/s]\n",
      "Computing metrics with halogen correction True: 100%|██████████| 5004/5004 [00:13<00:00, 373.39it/s]\n"
     ]
    }
   ],
   "source": [
    "ChemMetrics = Metrics(target_list_chem, predicted_list_chem, 'Chemformer')"
   ]
  },
  {
   "cell_type": "code",
   "execution_count": 10,
   "metadata": {},
   "outputs": [
    {
     "name": "stdout",
     "output_type": "stream",
     "text": [
      "+-----------------------------------------------------------------+\n",
      "|                 Computed Metrics for Chemformer                 |\n",
      "+-------------------+----------+--------------------+-------------+\n",
      "|       Metric      | Original | Halogen Correction | Final Index |\n",
      "+-------------------+----------+--------------------+-------------+\n",
      "|      Accuracy     |  0.533   |       0.560        |    0.547    |\n",
      "| Adjusted Accuracy |  0.545   |       0.571        |    0.558    |\n",
      "|  Partial Accuracy |  0.592   |       0.606        |    0.599    |\n",
      "| Adjusted Tanimoto |  0.520   |       0.513        |    0.516    |\n",
      "|     Our Score     |  0.547   |       0.562        |    0.555    |\n",
      "+-------------------+----------+--------------------+-------------+\n"
     ]
    }
   ],
   "source": [
    "ChemMetrics.print_metrics([1, 1, 1, 1])"
   ]
  },
  {
   "cell_type": "code",
   "execution_count": 11,
   "metadata": {},
   "outputs": [
    {
     "data": {
      "text/plain": [
       "60"
      ]
     },
     "execution_count": 11,
     "metadata": {},
     "output_type": "execute_result"
    }
   ],
   "source": [
    "len(ChemMetrics.interesting_molecules)"
   ]
  },
  {
   "cell_type": "markdown",
   "metadata": {},
   "source": [
    "# Graph2Smiles"
   ]
  },
  {
   "cell_type": "code",
   "execution_count": 12,
   "metadata": {},
   "outputs": [],
   "source": [
    "df_g2s = pd.read_pickle('graph2smiles/USPTO_50k_g2s_result.pkl')\n",
    "\n",
    "# convert concatenated SMILES strings to lists of SMILES strings\n",
    "target_list_g2s = df_g2s.apply(lambda x: x['target_smiles'][0].split('.'), axis=1).tolist()\n",
    "predicted_list_g2s = df_g2s.apply(lambda x: x['predicted_smiles'][0].split('.') if len(x['predicted_smiles']) else [], axis=1).tolist()"
   ]
  },
  {
   "cell_type": "code",
   "execution_count": 13,
   "metadata": {},
   "outputs": [
    {
     "name": "stderr",
     "output_type": "stream",
     "text": [
      "Computing metrics with halogen correction False: 100%|██████████| 5007/5007 [00:13<00:00, 363.29it/s]\n",
      "Computing metrics with halogen correction True: 100%|██████████| 5007/5007 [00:13<00:00, 368.30it/s]\n"
     ]
    }
   ],
   "source": [
    "G2SMetrics = Metrics(target_list_g2s, predicted_list_g2s, 'Graph2Smiles')"
   ]
  },
  {
   "cell_type": "code",
   "execution_count": 14,
   "metadata": {},
   "outputs": [
    {
     "name": "stdout",
     "output_type": "stream",
     "text": [
      "+-----------------------------------------------------------------+\n",
      "|                Computed Metrics for Graph2Smiles                |\n",
      "+-------------------+----------+--------------------+-------------+\n",
      "|       Metric      | Original | Halogen Correction | Final Index |\n",
      "+-------------------+----------+--------------------+-------------+\n",
      "|      Accuracy     |  0.513   |       0.542        |    0.528    |\n",
      "| Adjusted Accuracy |  0.543   |       0.573        |    0.558    |\n",
      "|  Partial Accuracy |  0.576   |       0.592        |    0.584    |\n",
      "| Adjusted Tanimoto |  0.529   |       0.521        |    0.525    |\n",
      "|     Our Score     |  0.540   |       0.557        |    0.549    |\n",
      "+-------------------+----------+--------------------+-------------+\n"
     ]
    }
   ],
   "source": [
    "G2SMetrics.print_metrics([1, 1, 1, 1])"
   ]
  },
  {
   "cell_type": "code",
   "execution_count": 15,
   "metadata": {},
   "outputs": [
    {
     "data": {
      "text/plain": [
       "165"
      ]
     },
     "execution_count": 15,
     "metadata": {},
     "output_type": "execute_result"
    }
   ],
   "source": [
    "len(G2SMetrics.interesting_molecules)"
   ]
  },
  {
   "cell_type": "markdown",
   "metadata": {},
   "source": [
    "# Comparision"
   ]
  },
  {
   "cell_type": "code",
   "execution_count": 16,
   "metadata": {},
   "outputs": [
    {
     "name": "stdout",
     "output_type": "stream",
     "text": [
      "+-----------------------------------------------------------------+\n",
      "|                 Computed Metrics for Chemformer                 |\n",
      "+-------------------+----------+--------------------+-------------+\n",
      "|       Metric      | Original | Halogen Correction | Final Index |\n",
      "+-------------------+----------+--------------------+-------------+\n",
      "|      Accuracy     |  0.533   |       0.560        |    0.547    |\n",
      "| Adjusted Accuracy |  0.545   |       0.571        |    0.558    |\n",
      "|  Partial Accuracy |  0.592   |       0.606        |    0.599    |\n",
      "| Adjusted Tanimoto |  0.520   |       0.513        |    0.516    |\n",
      "|     Our Score     |  0.547   |       0.562        |    0.555    |\n",
      "+-------------------+----------+--------------------+-------------+\n",
      "+-----------------------------------------------------------------+\n",
      "|                Computed Metrics for Graph2Smiles                |\n",
      "+-------------------+----------+--------------------+-------------+\n",
      "|       Metric      | Original | Halogen Correction | Final Index |\n",
      "+-------------------+----------+--------------------+-------------+\n",
      "|      Accuracy     |  0.513   |       0.542        |    0.528    |\n",
      "| Adjusted Accuracy |  0.543   |       0.573        |    0.558    |\n",
      "|  Partial Accuracy |  0.576   |       0.592        |    0.584    |\n",
      "| Adjusted Tanimoto |  0.529   |       0.521        |    0.525    |\n",
      "|     Our Score     |  0.540   |       0.557        |    0.549    |\n",
      "+-------------------+----------+--------------------+-------------+\n"
     ]
    }
   ],
   "source": [
    "ChemMetrics.print_metrics([1, 1, 1, 1])\n",
    "G2SMetrics.print_metrics([1, 1, 1, 1])"
   ]
  },
  {
   "cell_type": "code",
   "execution_count": 17,
   "metadata": {},
   "outputs": [
    {
     "name": "stdout",
     "output_type": "stream",
     "text": [
      "+-----------------------------------------------------------------+\n",
      "|                 Computed Metrics for Chemformer                 |\n",
      "+-------------------+----------+--------------------+-------------+\n",
      "|       Metric      | Original | Halogen Correction | Final Index |\n",
      "+-------------------+----------+--------------------+-------------+\n",
      "|      Accuracy     |  0.533   |       0.560        |    0.547    |\n",
      "| Adjusted Accuracy |  0.545   |       0.571        |    0.558    |\n",
      "|  Partial Accuracy |  0.592   |       0.606        |    0.599    |\n",
      "| Adjusted Tanimoto |  0.520   |       0.513        |    0.516    |\n",
      "|     Our Score     |  0.581   |       0.597        |    0.589    |\n",
      "+-------------------+----------+--------------------+-------------+\n",
      "+-----------------------------------------------------------------+\n",
      "|                Computed Metrics for Graph2Smiles                |\n",
      "+-------------------+----------+--------------------+-------------+\n",
      "|       Metric      | Original | Halogen Correction | Final Index |\n",
      "+-------------------+----------+--------------------+-------------+\n",
      "|      Accuracy     |  0.513   |       0.542        |    0.528    |\n",
      "| Adjusted Accuracy |  0.543   |       0.573        |    0.558    |\n",
      "|  Partial Accuracy |  0.576   |       0.592        |    0.584    |\n",
      "| Adjusted Tanimoto |  0.529   |       0.521        |    0.525    |\n",
      "|     Our Score     |  0.568   |       0.585        |    0.577    |\n",
      "+-------------------+----------+--------------------+-------------+\n"
     ]
    }
   ],
   "source": [
    "ChemMetrics.print_metrics([1, 2, 4, 1])\n",
    "G2SMetrics.print_metrics([1, 2, 4, 1])"
   ]
  },
  {
   "cell_type": "markdown",
   "metadata": {},
   "source": [
    "# Yashas Model"
   ]
  },
  {
   "cell_type": "code",
   "execution_count": null,
   "metadata": {},
   "outputs": [],
   "source": [
    "df = pd.read_csv('y_g2s/wandb.csv')\n",
    "\n",
    "# convert concatenated SMILES strings to lists of SMILES strings\n",
    "target_list_yashas = df.apply(lambda x: x['target_smiles'].split('.'), axis=1).tolist()\n",
    "predicted_list_yashas = df.apply(lambda x: x['predicted_smiles'].split('.'), axis=1).tolist()"
   ]
  },
  {
   "cell_type": "code",
   "execution_count": null,
   "metadata": {},
   "outputs": [],
   "source": [
    "YashasMetrics = Metrics(target_list_yashas, predicted_list_yashas, 'Yashas')"
   ]
  },
  {
   "cell_type": "code",
   "execution_count": null,
   "metadata": {},
   "outputs": [],
   "source": [
    "YashasMetrics.print_metrics([1, 1, 1, 1])"
   ]
  },
  {
   "cell_type": "code",
   "execution_count": null,
   "metadata": {},
   "outputs": [],
   "source": []
  }
 ],
 "metadata": {
  "kernelspec": {
   "display_name": "pytorch2",
   "language": "python",
   "name": "python3"
  },
  "language_info": {
   "codemirror_mode": {
    "name": "ipython",
    "version": 3
   },
   "file_extension": ".py",
   "mimetype": "text/x-python",
   "name": "python",
   "nbconvert_exporter": "python",
   "pygments_lexer": "ipython3",
   "version": "3.10.12"
  }
 },
 "nbformat": 4,
 "nbformat_minor": 2
}

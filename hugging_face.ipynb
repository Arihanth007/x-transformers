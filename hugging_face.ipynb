{
 "cells": [
  {
   "cell_type": "code",
   "execution_count": 1,
   "metadata": {},
   "outputs": [
    {
     "name": "stderr",
     "output_type": "stream",
     "text": [
      "/home2/arihanth.srikar/miniconda3/envs/pytorch2/lib/python3.10/site-packages/tqdm/auto.py:21: TqdmWarning: IProgress not found. Please update jupyter and ipywidgets. See https://ipywidgets.readthedocs.io/en/stable/user_install.html\n",
      "  from .autonotebook import tqdm as notebook_tqdm\n"
     ]
    }
   ],
   "source": [
    "from collections import Counter\n",
    "import pandas as pd\n",
    "from matplotlib import pyplot as plt\n",
    "from tqdm import tqdm\n",
    "\n",
    "from transformers import AutoTokenizer, AutoModelForMaskedLM\n",
    "\n",
    "import torch"
   ]
  },
  {
   "cell_type": "code",
   "execution_count": 2,
   "metadata": {},
   "outputs": [],
   "source": [
    "# tokenizer = AutoTokenizer.from_pretrained(\"seyonec/PubChem10M_SMILES_BPE_60k\", cache_dir='/scratch')\n",
    "# model = AutoModelForMaskedLM.from_pretrained(\"seyonec/PubChem10M_SMILES_BPE_60k\", cache_dir='/scratch')\n",
    "\n",
    "tokenizer = AutoTokenizer.from_pretrained(\"DeepChem/ChemBERTa-77M-MLM\", cache_dir='/scratch')\n",
    "model = AutoModelForMaskedLM.from_pretrained(\"DeepChem/ChemBERTa-77M-MLM\", cache_dir='/scratch')"
   ]
  },
  {
   "cell_type": "code",
   "execution_count": 3,
   "metadata": {},
   "outputs": [
    {
     "data": {
      "text/html": [
       "<div>\n",
       "<style scoped>\n",
       "    .dataframe tbody tr th:only-of-type {\n",
       "        vertical-align: middle;\n",
       "    }\n",
       "\n",
       "    .dataframe tbody tr th {\n",
       "        vertical-align: top;\n",
       "    }\n",
       "\n",
       "    .dataframe thead th {\n",
       "        text-align: right;\n",
       "    }\n",
       "</style>\n",
       "<table border=\"1\" class=\"dataframe\">\n",
       "  <thead>\n",
       "    <tr style=\"text-align: right;\">\n",
       "      <th></th>\n",
       "      <th>reactants_mol</th>\n",
       "      <th>products_mol</th>\n",
       "      <th>reaction_type</th>\n",
       "      <th>set</th>\n",
       "      <th>num_reacts</th>\n",
       "      <th>num_prods</th>\n",
       "      <th>ratio</th>\n",
       "      <th>reactant_token</th>\n",
       "      <th>reactant_bfs_id</th>\n",
       "      <th>reactant_bfs_depth</th>\n",
       "      <th>reactant_dfs_id</th>\n",
       "      <th>reactant_dfs_depth</th>\n",
       "      <th>product_token</th>\n",
       "      <th>product_bfs_id</th>\n",
       "      <th>product_bfs_depth</th>\n",
       "      <th>product_dfs_id</th>\n",
       "      <th>product_dfs_depth</th>\n",
       "    </tr>\n",
       "  </thead>\n",
       "  <tbody>\n",
       "    <tr>\n",
       "      <th>0</th>\n",
       "      <td>[CS(=O)(=O)OC[C@H]1CCC(=O)O1, Fc1ccc(Nc2ncnc3c...</td>\n",
       "      <td>[O=C1CC[C@H](CN2CCN(CCOc3cc4ncnc(Nc5ccc(F)c(Cl...</td>\n",
       "      <td>&lt;RX_1&gt;</td>\n",
       "      <td>train</td>\n",
       "      <td>2</td>\n",
       "      <td>1</td>\n",
       "      <td>1.121951</td>\n",
       "      <td>[[F, c, 1, c, c, c, (, N, c, 2, n, c, n, c, 3,...</td>\n",
       "      <td>[[0, 1, 1, 2, 32, 3, 3, 31, 33, 33, 4, 5, 6, 7...</td>\n",
       "      <td>[[0, 1, 1, 2, 3, 4, 4, 5, 6, 6, 7, 8, 9, 8, 8,...</td>\n",
       "      <td>[[0, 1, 1, 2, 3, 4, 4, 5, 6, 6, 7, 8, 9, 10, 1...</td>\n",
       "      <td>[[0, 1, 1, 2, 3, 4, 4, 5, 6, 6, 7, 8, 9, 8, 8,...</td>\n",
       "      <td>[[O, =, C, 1, C, C, [C@H], (, C, N, 2, C, C, N...</td>\n",
       "      <td>[[0, 0, 1, 1, 2, 40, 3, 3, 4, 5, 5, 6, 7, 39, ...</td>\n",
       "      <td>[[0, 0, 1, 1, 2, 3, 3, 3, 4, 5, 5, 6, 7, 8, 8,...</td>\n",
       "      <td>[[0, 0, 1, 1, 2, 3, 4, 4, 5, 6, 6, 7, 8, 9, 9,...</td>\n",
       "      <td>[[0, 0, 1, 1, 2, 3, 3, 3, 5, 6, 6, 7, 8, 9, 9,...</td>\n",
       "    </tr>\n",
       "    <tr>\n",
       "      <th>1</th>\n",
       "      <td>[COC(=O)c1cc(CCCc2cc3c(=O)[nH]c(N)nc3[nH]2)cs1]</td>\n",
       "      <td>[Nc1nc2[nH]c(CCCc3csc(C(=O)O)c3)cc2c(=O)[nH]1]</td>\n",
       "      <td>&lt;RX_6&gt;</td>\n",
       "      <td>train</td>\n",
       "      <td>1</td>\n",
       "      <td>1</td>\n",
       "      <td>1.045455</td>\n",
       "      <td>[[C, O, C, (, =, O, ), c, 1, c, c, (, C, C, C,...</td>\n",
       "      <td>[[0, 1, 2, 2, 2, 3, 3, 4, 4, 5, 22, 22, 6, 21,...</td>\n",
       "      <td>[[0, 1, 2, 2, 2, 3, 3, 3, 3, 4, 5, 5, 6, 7, 8,...</td>\n",
       "      <td>[[0, 1, 2, 2, 2, 3, 3, 4, 4, 5, 6, 6, 7, 8, 9,...</td>\n",
       "      <td>[[0, 1, 2, 2, 2, 3, 3, 3, 3, 4, 5, 5, 6, 7, 8,...</td>\n",
       "      <td>[[N, c, 1, n, c, 2, [nH], c, (, C, C, C, c, 3,...</td>\n",
       "      <td>[[0, 1, 1, 2, 21, 21, 3, 19, 19, 4, 18, 20, 5,...</td>\n",
       "      <td>[[0, 1, 1, 2, 3, 3, 4, 5, 5, 6, 7, 8, 9, 9, 10...</td>\n",
       "      <td>[[0, 1, 1, 2, 3, 3, 4, 5, 5, 6, 7, 8, 9, 9, 10...</td>\n",
       "      <td>[[0, 1, 1, 2, 3, 3, 4, 5, 5, 6, 7, 8, 9, 9, 10...</td>\n",
       "    </tr>\n",
       "    <tr>\n",
       "      <th>2</th>\n",
       "      <td>[CC1(C)OB(B2OC(C)(C)C(C)(C)O2)OC1(C)C, FC(F)(F...</td>\n",
       "      <td>[CC1(C)OB(c2cccc(Nc3nccc(C(F)(F)F)n3)c2)OC1(C)C]</td>\n",
       "      <td>&lt;RX_9&gt;</td>\n",
       "      <td>train</td>\n",
       "      <td>2</td>\n",
       "      <td>1</td>\n",
       "      <td>1.384615</td>\n",
       "      <td>[[C, C, 1, (, C, ), O, B, (, B, 2, O, C, (, C,...</td>\n",
       "      <td>[[0, 1, 1, 1, 2, 2, 3, 15, 15, 4, 4, 14, 16, 1...</td>\n",
       "      <td>[[0, 1, 1, 1, 2, 2, 2, 3, 3, 4, 4, 5, 6, 6, 7,...</td>\n",
       "      <td>[[0, 1, 1, 1, 2, 2, 3, 4, 4, 5, 5, 6, 7, 7, 8,...</td>\n",
       "      <td>[[0, 1, 1, 1, 2, 2, 2, 3, 3, 4, 4, 5, 6, 6, 7,...</td>\n",
       "      <td>[[C, C, 1, (, C, ), O, B, (, c, 2, c, c, c, c,...</td>\n",
       "      <td>[[0, 1, 1, 1, 2, 2, 3, 23, 23, 4, 4, 22, 24, 2...</td>\n",
       "      <td>[[0, 1, 1, 1, 2, 2, 2, 3, 3, 4, 4, 5, 6, 7, 6,...</td>\n",
       "      <td>[[0, 1, 1, 1, 2, 2, 3, 4, 4, 5, 5, 6, 7, 8, 9,...</td>\n",
       "      <td>[[0, 1, 1, 1, 2, 2, 2, 3, 3, 4, 4, 5, 6, 7, 6,...</td>\n",
       "    </tr>\n",
       "    <tr>\n",
       "      <th>3</th>\n",
       "      <td>[CC(C)(C)OC(=O)NCC(=O)CCC(=O)OCCCC(=O)OCc1ccccc1]</td>\n",
       "      <td>[CC(C)(C)OC(=O)NCC(=O)CCC(=O)OCCCC(=O)O]</td>\n",
       "      <td>&lt;RX_6&gt;</td>\n",
       "      <td>train</td>\n",
       "      <td>1</td>\n",
       "      <td>1</td>\n",
       "      <td>1.318182</td>\n",
       "      <td>[[C, C, (, C, ), (, C, ), O, C, (, =, O, ), N,...</td>\n",
       "      <td>[[0, 1, 1, 2, 2, 2, 3, 3, 4, 5, 5, 5, 6, 6, 7,...</td>\n",
       "      <td>[[0, 1, 1, 2, 2, 2, 2, 2, 2, 3, 3, 3, 4, 4, 4,...</td>\n",
       "      <td>[[0, 1, 1, 2, 2, 2, 3, 3, 4, 5, 5, 5, 6, 6, 7,...</td>\n",
       "      <td>[[0, 1, 1, 2, 2, 2, 2, 2, 2, 3, 3, 3, 4, 4, 4,...</td>\n",
       "      <td>[[C, C, (, C, ), (, C, ), O, C, (, =, O, ), N,...</td>\n",
       "      <td>[[0, 1, 1, 2, 2, 2, 3, 3, 4, 5, 5, 5, 6, 6, 7,...</td>\n",
       "      <td>[[0, 1, 1, 2, 2, 2, 2, 2, 2, 3, 3, 3, 4, 4, 4,...</td>\n",
       "      <td>[[0, 1, 1, 2, 2, 2, 3, 3, 4, 5, 5, 5, 6, 6, 7,...</td>\n",
       "      <td>[[0, 1, 1, 2, 2, 2, 2, 2, 2, 3, 3, 3, 4, 4, 4,...</td>\n",
       "    </tr>\n",
       "    <tr>\n",
       "      <th>4</th>\n",
       "      <td>[Fc1cc2c(Cl)ncnc2cn1, NC1CCCCCC1]</td>\n",
       "      <td>[Fc1cc2c(NC3CCCCCC3)ncnc2cn1]</td>\n",
       "      <td>&lt;RX_1&gt;</td>\n",
       "      <td>train</td>\n",
       "      <td>2</td>\n",
       "      <td>1</td>\n",
       "      <td>1.052632</td>\n",
       "      <td>[[F, c, 1, c, c, 2, c, (, Cl, ), n, c, n, c, 2...</td>\n",
       "      <td>[[0, 1, 1, 2, 11, 11, 3, 3, 10, 10, 4, 9, 5, 6...</td>\n",
       "      <td>[[0, 1, 1, 2, 3, 3, 4, 4, 5, 5, 5, 6, 5, 4, 4,...</td>\n",
       "      <td>[[0, 1, 1, 2, 3, 3, 4, 4, 5, 5, 6, 7, 8, 9, 9,...</td>\n",
       "      <td>[[0, 1, 1, 2, 3, 3, 4, 4, 5, 5, 5, 6, 5, 4, 4,...</td>\n",
       "      <td>[[F, c, 1, c, c, 2, c, (, N, C, 3, C, C, C, C,...</td>\n",
       "      <td>[[0, 1, 1, 2, 18, 18, 3, 3, 17, 4, 4, 16, 5, 1...</td>\n",
       "      <td>[[0, 1, 1, 2, 3, 3, 4, 4, 5, 6, 6, 7, 8, 9, 9,...</td>\n",
       "      <td>[[0, 1, 1, 2, 3, 3, 4, 4, 5, 6, 6, 7, 8, 9, 10...</td>\n",
       "      <td>[[0, 1, 1, 2, 3, 3, 4, 4, 5, 6, 6, 7, 8, 9, 9,...</td>\n",
       "    </tr>\n",
       "  </tbody>\n",
       "</table>\n",
       "</div>"
      ],
      "text/plain": [
       "                                       reactants_mol  \\\n",
       "0  [CS(=O)(=O)OC[C@H]1CCC(=O)O1, Fc1ccc(Nc2ncnc3c...   \n",
       "1    [COC(=O)c1cc(CCCc2cc3c(=O)[nH]c(N)nc3[nH]2)cs1]   \n",
       "2  [CC1(C)OB(B2OC(C)(C)C(C)(C)O2)OC1(C)C, FC(F)(F...   \n",
       "3  [CC(C)(C)OC(=O)NCC(=O)CCC(=O)OCCCC(=O)OCc1ccccc1]   \n",
       "4                  [Fc1cc2c(Cl)ncnc2cn1, NC1CCCCCC1]   \n",
       "\n",
       "                                        products_mol reaction_type    set  \\\n",
       "0  [O=C1CC[C@H](CN2CCN(CCOc3cc4ncnc(Nc5ccc(F)c(Cl...        <RX_1>  train   \n",
       "1     [Nc1nc2[nH]c(CCCc3csc(C(=O)O)c3)cc2c(=O)[nH]1]        <RX_6>  train   \n",
       "2   [CC1(C)OB(c2cccc(Nc3nccc(C(F)(F)F)n3)c2)OC1(C)C]        <RX_9>  train   \n",
       "3           [CC(C)(C)OC(=O)NCC(=O)CCC(=O)OCCCC(=O)O]        <RX_6>  train   \n",
       "4                      [Fc1cc2c(NC3CCCCCC3)ncnc2cn1]        <RX_1>  train   \n",
       "\n",
       "   num_reacts  num_prods     ratio  \\\n",
       "0           2          1  1.121951   \n",
       "1           1          1  1.045455   \n",
       "2           2          1  1.384615   \n",
       "3           1          1  1.318182   \n",
       "4           2          1  1.052632   \n",
       "\n",
       "                                      reactant_token  \\\n",
       "0  [[F, c, 1, c, c, c, (, N, c, 2, n, c, n, c, 3,...   \n",
       "1  [[C, O, C, (, =, O, ), c, 1, c, c, (, C, C, C,...   \n",
       "2  [[C, C, 1, (, C, ), O, B, (, B, 2, O, C, (, C,...   \n",
       "3  [[C, C, (, C, ), (, C, ), O, C, (, =, O, ), N,...   \n",
       "4  [[F, c, 1, c, c, 2, c, (, Cl, ), n, c, n, c, 2...   \n",
       "\n",
       "                                     reactant_bfs_id  \\\n",
       "0  [[0, 1, 1, 2, 32, 3, 3, 31, 33, 33, 4, 5, 6, 7...   \n",
       "1  [[0, 1, 2, 2, 2, 3, 3, 4, 4, 5, 22, 22, 6, 21,...   \n",
       "2  [[0, 1, 1, 1, 2, 2, 3, 15, 15, 4, 4, 14, 16, 1...   \n",
       "3  [[0, 1, 1, 2, 2, 2, 3, 3, 4, 5, 5, 5, 6, 6, 7,...   \n",
       "4  [[0, 1, 1, 2, 11, 11, 3, 3, 10, 10, 4, 9, 5, 6...   \n",
       "\n",
       "                                  reactant_bfs_depth  \\\n",
       "0  [[0, 1, 1, 2, 3, 4, 4, 5, 6, 6, 7, 8, 9, 8, 8,...   \n",
       "1  [[0, 1, 2, 2, 2, 3, 3, 3, 3, 4, 5, 5, 6, 7, 8,...   \n",
       "2  [[0, 1, 1, 1, 2, 2, 2, 3, 3, 4, 4, 5, 6, 6, 7,...   \n",
       "3  [[0, 1, 1, 2, 2, 2, 2, 2, 2, 3, 3, 3, 4, 4, 4,...   \n",
       "4  [[0, 1, 1, 2, 3, 3, 4, 4, 5, 5, 5, 6, 5, 4, 4,...   \n",
       "\n",
       "                                     reactant_dfs_id  \\\n",
       "0  [[0, 1, 1, 2, 3, 4, 4, 5, 6, 6, 7, 8, 9, 10, 1...   \n",
       "1  [[0, 1, 2, 2, 2, 3, 3, 4, 4, 5, 6, 6, 7, 8, 9,...   \n",
       "2  [[0, 1, 1, 1, 2, 2, 3, 4, 4, 5, 5, 6, 7, 7, 8,...   \n",
       "3  [[0, 1, 1, 2, 2, 2, 3, 3, 4, 5, 5, 5, 6, 6, 7,...   \n",
       "4  [[0, 1, 1, 2, 3, 3, 4, 4, 5, 5, 6, 7, 8, 9, 9,...   \n",
       "\n",
       "                                  reactant_dfs_depth  \\\n",
       "0  [[0, 1, 1, 2, 3, 4, 4, 5, 6, 6, 7, 8, 9, 8, 8,...   \n",
       "1  [[0, 1, 2, 2, 2, 3, 3, 3, 3, 4, 5, 5, 6, 7, 8,...   \n",
       "2  [[0, 1, 1, 1, 2, 2, 2, 3, 3, 4, 4, 5, 6, 6, 7,...   \n",
       "3  [[0, 1, 1, 2, 2, 2, 2, 2, 2, 3, 3, 3, 4, 4, 4,...   \n",
       "4  [[0, 1, 1, 2, 3, 3, 4, 4, 5, 5, 5, 6, 5, 4, 4,...   \n",
       "\n",
       "                                       product_token  \\\n",
       "0  [[O, =, C, 1, C, C, [C@H], (, C, N, 2, C, C, N...   \n",
       "1  [[N, c, 1, n, c, 2, [nH], c, (, C, C, C, c, 3,...   \n",
       "2  [[C, C, 1, (, C, ), O, B, (, c, 2, c, c, c, c,...   \n",
       "3  [[C, C, (, C, ), (, C, ), O, C, (, =, O, ), N,...   \n",
       "4  [[F, c, 1, c, c, 2, c, (, N, C, 3, C, C, C, C,...   \n",
       "\n",
       "                                      product_bfs_id  \\\n",
       "0  [[0, 0, 1, 1, 2, 40, 3, 3, 4, 5, 5, 6, 7, 39, ...   \n",
       "1  [[0, 1, 1, 2, 21, 21, 3, 19, 19, 4, 18, 20, 5,...   \n",
       "2  [[0, 1, 1, 1, 2, 2, 3, 23, 23, 4, 4, 22, 24, 2...   \n",
       "3  [[0, 1, 1, 2, 2, 2, 3, 3, 4, 5, 5, 5, 6, 6, 7,...   \n",
       "4  [[0, 1, 1, 2, 18, 18, 3, 3, 17, 4, 4, 16, 5, 1...   \n",
       "\n",
       "                                   product_bfs_depth  \\\n",
       "0  [[0, 0, 1, 1, 2, 3, 3, 3, 4, 5, 5, 6, 7, 8, 8,...   \n",
       "1  [[0, 1, 1, 2, 3, 3, 4, 5, 5, 6, 7, 8, 9, 9, 10...   \n",
       "2  [[0, 1, 1, 1, 2, 2, 2, 3, 3, 4, 4, 5, 6, 7, 6,...   \n",
       "3  [[0, 1, 1, 2, 2, 2, 2, 2, 2, 3, 3, 3, 4, 4, 4,...   \n",
       "4  [[0, 1, 1, 2, 3, 3, 4, 4, 5, 6, 6, 7, 8, 9, 9,...   \n",
       "\n",
       "                                      product_dfs_id  \\\n",
       "0  [[0, 0, 1, 1, 2, 3, 4, 4, 5, 6, 6, 7, 8, 9, 9,...   \n",
       "1  [[0, 1, 1, 2, 3, 3, 4, 5, 5, 6, 7, 8, 9, 9, 10...   \n",
       "2  [[0, 1, 1, 1, 2, 2, 3, 4, 4, 5, 5, 6, 7, 8, 9,...   \n",
       "3  [[0, 1, 1, 2, 2, 2, 3, 3, 4, 5, 5, 5, 6, 6, 7,...   \n",
       "4  [[0, 1, 1, 2, 3, 3, 4, 4, 5, 6, 6, 7, 8, 9, 10...   \n",
       "\n",
       "                                   product_dfs_depth  \n",
       "0  [[0, 0, 1, 1, 2, 3, 3, 3, 5, 6, 6, 7, 8, 9, 9,...  \n",
       "1  [[0, 1, 1, 2, 3, 3, 4, 5, 5, 6, 7, 8, 9, 9, 10...  \n",
       "2  [[0, 1, 1, 1, 2, 2, 2, 3, 3, 4, 4, 5, 6, 7, 6,...  \n",
       "3  [[0, 1, 1, 2, 2, 2, 2, 2, 2, 3, 3, 3, 4, 4, 4,...  \n",
       "4  [[0, 1, 1, 2, 3, 3, 4, 4, 5, 6, 6, 7, 8, 9, 9,...  "
      ]
     },
     "execution_count": 3,
     "metadata": {},
     "output_type": "execute_result"
    }
   ],
   "source": [
    "df = pd.read_pickle(\"data/uspto50/final_data.pickle\")\n",
    "df.head()"
   ]
  },
  {
   "cell_type": "code",
   "execution_count": 4,
   "metadata": {},
   "outputs": [],
   "source": [
    "df_train, df_val, df_test = df[df[\"set\"] == \"train\"].copy(), df[df[\"set\"] == \"valid\"].copy(), df[df[\"set\"] == \"test\"].copy()"
   ]
  },
  {
   "cell_type": "code",
   "execution_count": 5,
   "metadata": {},
   "outputs": [],
   "source": [
    "df_train['tokenized_reactants'] = df_train['reactants_mol'].apply(lambda x: [tokenizer(smi)['input_ids'] for smi in x])\n",
    "df_train['tokenized_products'] = df_train['products_mol'].apply(lambda x: [tokenizer(smi)['input_ids'] for smi in x])\n",
    "\n",
    "df_val['tokenized_reactants'] = df_val['reactants_mol'].apply(lambda x: [tokenizer(smi)['input_ids'] for smi in x])\n",
    "df_val['tokenized_products'] = df_val['products_mol'].apply(lambda x: [tokenizer(smi)['input_ids'] for smi in x])\n",
    "\n",
    "df_test['tokenized_reactants'] = df_test['reactants_mol'].apply(lambda x: [tokenizer(smi)['input_ids'] for smi in x])\n",
    "df_test['tokenized_products'] = df_test['products_mol'].apply(lambda x: [tokenizer(smi)['input_ids'] for smi in x])"
   ]
  },
  {
   "cell_type": "code",
   "execution_count": 6,
   "metadata": {},
   "outputs": [],
   "source": [
    "def convert_to_freq_map(data):\n",
    "    frq_map = Counter()\n",
    "    for row in tqdm(data):\n",
    "        for product in row:\n",
    "            temp_counter = Counter(product)\n",
    "            frq_map.update(temp_counter)\n",
    "    return frq_map"
   ]
  },
  {
   "cell_type": "code",
   "execution_count": 7,
   "metadata": {},
   "outputs": [
    {
     "name": "stderr",
     "output_type": "stream",
     "text": [
      "100%|██████████| 40029/40029 [00:00<00:00, 206005.67it/s]\n",
      "100%|██████████| 40029/40029 [00:00<00:00, 156947.49it/s]\n",
      "100%|██████████| 5004/5004 [00:00<00:00, 145218.59it/s]\n",
      "100%|██████████| 5004/5004 [00:00<00:00, 129918.27it/s]\n",
      "100%|██████████| 5004/5004 [00:00<00:00, 146007.58it/s]\n",
      "100%|██████████| 5004/5004 [00:00<00:00, 142548.68it/s]\n"
     ]
    }
   ],
   "source": [
    "train_products_freq = convert_to_freq_map(df_train['tokenized_products'])\n",
    "train_reactants_freq = convert_to_freq_map(df_train['tokenized_reactants'])\n",
    "\n",
    "val_products_freq = convert_to_freq_map(df_val['tokenized_products'])\n",
    "val_reactants_freq = convert_to_freq_map(df_val['tokenized_reactants'])\n",
    "\n",
    "test_products_freq = convert_to_freq_map(df_test['tokenized_products'])\n",
    "test_reactants_freq = convert_to_freq_map(df_test['tokenized_reactants'])"
   ]
  },
  {
   "cell_type": "code",
   "execution_count": 8,
   "metadata": {},
   "outputs": [],
   "source": [
    "train_reactants_set = set(train_reactants_freq.keys())\n",
    "train_products_set = set(train_products_freq.keys())\n",
    "\n",
    "val_reactants_set = set(val_reactants_freq.keys())\n",
    "val_products_set = set(val_products_freq.keys())\n",
    "\n",
    "test_reactants_set = set(test_reactants_freq.keys())\n",
    "test_products_set = set(test_products_freq.keys())"
   ]
  },
  {
   "cell_type": "code",
   "execution_count": 15,
   "metadata": {},
   "outputs": [
    {
     "name": "stdout",
     "output_type": "stream",
     "text": [
      "0\n",
      "1 {76}\n"
     ]
    }
   ],
   "source": [
    "print(len(val_reactants_set - train_reactants_set))\n",
    "print(len(train_reactants_set - val_reactants_set), train_reactants_set - val_reactants_set)"
   ]
  },
  {
   "cell_type": "code",
   "execution_count": 16,
   "metadata": {},
   "outputs": [
    {
     "data": {
      "text/plain": [
       "591"
      ]
     },
     "execution_count": 16,
     "metadata": {},
     "output_type": "execute_result"
    }
   ],
   "source": [
    "tokenizer.vocab_size"
   ]
  },
  {
   "cell_type": "code",
   "execution_count": null,
   "metadata": {},
   "outputs": [],
   "source": []
  },
  {
   "cell_type": "code",
   "execution_count": null,
   "metadata": {},
   "outputs": [],
   "source": [
    "reactant_smi = df['reactants_mol'].iloc[109]\n",
    "reactant_smi[0]"
   ]
  },
  {
   "cell_type": "code",
   "execution_count": null,
   "metadata": {},
   "outputs": [],
   "source": [
    "gt_smi    = 'CC(C)(C)OC(=O)N1CCN(c2ccccc2OC2CCCNC2)CC1'\n",
    "input_smi = 'CC(C)(C)<mask>(=O)N1CCN(c2ccccc2OC2CCCNC2)CC1'\n",
    "# input_smi = 'CC(C)(C)[MASK]C(=O)N1CCN(c2ccccc2OC2CCCNC2)CC1'"
   ]
  },
  {
   "cell_type": "code",
   "execution_count": null,
   "metadata": {},
   "outputs": [],
   "source": [
    "print(tokenizer(gt_smi)['input_ids'])\n",
    "print(tokenizer(input_smi)['input_ids'])"
   ]
  },
  {
   "cell_type": "code",
   "execution_count": null,
   "metadata": {},
   "outputs": [],
   "source": [
    "print([tokenizer.decode(t) for t in tokenizer(gt_smi)['input_ids']])\n",
    "print([tokenizer.decode(t) for t in tokenizer(input_smi)['input_ids']])"
   ]
  },
  {
   "cell_type": "code",
   "execution_count": null,
   "metadata": {},
   "outputs": [],
   "source": [
    "tokenizer.all_special_tokens, tokenizer.vocab_size"
   ]
  },
  {
   "cell_type": "code",
   "execution_count": null,
   "metadata": {},
   "outputs": [],
   "source": [
    "print(model)"
   ]
  },
  {
   "cell_type": "code",
   "execution_count": null,
   "metadata": {},
   "outputs": [],
   "source": [
    "model.config"
   ]
  },
  {
   "cell_type": "code",
   "execution_count": null,
   "metadata": {},
   "outputs": [],
   "source": [
    "input_ids = tokenizer(input_smi, return_tensors=\"pt\")\n",
    "gt_ids    = tokenizer(gt_smi, return_tensors=\"pt\")\n",
    "# output = model(input_ids['input_ids'], labels=gt_ids['input_ids'], output_hidden_states=True)\n",
    "output = model(input_ids['input_ids'], labels=torch.where(input_ids.input_ids == tokenizer.mask_token_id, gt_ids.input_ids, -100), output_hidden_states=True)"
   ]
  },
  {
   "cell_type": "code",
   "execution_count": null,
   "metadata": {},
   "outputs": [],
   "source": [
    "model.roberta.encoder.layer[0].attention.self.query.weight"
   ]
  },
  {
   "cell_type": "code",
   "execution_count": null,
   "metadata": {},
   "outputs": [],
   "source": [
    "torch.where(input_ids.input_ids == tokenizer.mask_token_id, gt_ids.input_ids, -100)"
   ]
  },
  {
   "cell_type": "code",
   "execution_count": null,
   "metadata": {},
   "outputs": [],
   "source": [
    "output.keys()"
   ]
  },
  {
   "cell_type": "code",
   "execution_count": null,
   "metadata": {},
   "outputs": [],
   "source": [
    "output['loss'].item(), output['logits'].shape"
   ]
  },
  {
   "cell_type": "code",
   "execution_count": null,
   "metadata": {},
   "outputs": [],
   "source": [
    "output['hidden_states'] = torch.cat(output['hidden_states'], dim=0)"
   ]
  },
  {
   "cell_type": "code",
   "execution_count": null,
   "metadata": {},
   "outputs": [],
   "source": [
    "output['hidden_states'].shape"
   ]
  },
  {
   "cell_type": "code",
   "execution_count": null,
   "metadata": {},
   "outputs": [],
   "source": [
    "output['hidden_states'][0]"
   ]
  },
  {
   "cell_type": "code",
   "execution_count": null,
   "metadata": {},
   "outputs": [],
   "source": [
    "input_ids['input_ids'].shape, output['logits'].shape"
   ]
  },
  {
   "cell_type": "code",
   "execution_count": null,
   "metadata": {},
   "outputs": [],
   "source": [
    "special_tokens_dict = {'additional_special_tokens': ['[1]', '[2]', '[3]', '[4]']}\n",
    "num_added_toks = tokenizer.add_special_tokens(special_tokens_dict)"
   ]
  },
  {
   "cell_type": "code",
   "execution_count": null,
   "metadata": {},
   "outputs": [],
   "source": [
    "tok_id = tokenizer.convert_tokens_to_ids(['[1]', '[2]', '[3]', '[4]'])\n",
    "tok_id"
   ]
  },
  {
   "cell_type": "code",
   "execution_count": null,
   "metadata": {},
   "outputs": [],
   "source": []
  }
 ],
 "metadata": {
  "kernelspec": {
   "display_name": "pytorch2",
   "language": "python",
   "name": "python3"
  },
  "language_info": {
   "codemirror_mode": {
    "name": "ipython",
    "version": 3
   },
   "file_extension": ".py",
   "mimetype": "text/x-python",
   "name": "python",
   "nbconvert_exporter": "python",
   "pygments_lexer": "ipython3",
   "version": "3.10.11"
  },
  "orig_nbformat": 4
 },
 "nbformat": 4,
 "nbformat_minor": 2
}

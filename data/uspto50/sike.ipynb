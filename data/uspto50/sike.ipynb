{
 "cells": [
  {
   "cell_type": "code",
   "execution_count": 1,
   "metadata": {},
   "outputs": [],
   "source": [
    "from rdkit import Chem\n",
    "from rdkit.Chem.Draw import IPythonConsole\n",
    "from rdkit.Chem import Draw\n",
    "import networkx as nx\n",
    "import pandas as pd\n",
    "from tqdm import tqdm\n",
    "from SmilesPE.pretokenizer import atomwise_tokenizer"
   ]
  },
  {
   "cell_type": "code",
   "execution_count": 2,
   "metadata": {},
   "outputs": [],
   "source": [
    "def mol_to_nx(mol):\n",
    "    G = nx.Graph()\n",
    "\n",
    "    for atom in mol.GetAtoms():\n",
    "        G.add_node(atom.GetIdx(),\n",
    "                   atomic_num=atom.GetAtomicNum(),\n",
    "                   formal_charge=atom.GetFormalCharge(),\n",
    "                   chiral_tag=atom.GetChiralTag(),\n",
    "                   hybridization=atom.GetHybridization(),\n",
    "                   num_explicit_hs=atom.GetNumExplicitHs(),\n",
    "                   is_aromatic=atom.GetIsAromatic())\n",
    "    for bond in mol.GetBonds():\n",
    "        G.add_edge(bond.GetBeginAtomIdx(),\n",
    "                   bond.GetEndAtomIdx(),\n",
    "                   bond_type=bond.GetBondType())\n",
    "    return G\n",
    "\n",
    "def nx_to_mol(G):\n",
    "    mol = Chem.RWMol()\n",
    "    atomic_nums = nx.get_node_attributes(G, 'atomic_num')\n",
    "    chiral_tags = nx.get_node_attributes(G, 'chiral_tag')\n",
    "    formal_charges = nx.get_node_attributes(G, 'formal_charge')\n",
    "    node_is_aromatics = nx.get_node_attributes(G, 'is_aromatic')\n",
    "    node_hybridizations = nx.get_node_attributes(G, 'hybridization')\n",
    "    num_explicit_hss = nx.get_node_attributes(G, 'num_explicit_hs')\n",
    "    node_to_idx = {}\n",
    "    for node in G.nodes():\n",
    "        a=Chem.Atom(atomic_nums[node])\n",
    "        a.SetChiralTag(chiral_tags[node])\n",
    "        a.SetFormalCharge(formal_charges[node])\n",
    "        a.SetIsAromatic(node_is_aromatics[node])\n",
    "        a.SetHybridization(node_hybridizations[node])\n",
    "        a.SetNumExplicitHs(num_explicit_hss[node])\n",
    "        idx = mol.AddAtom(a)\n",
    "        node_to_idx[node] = idx\n",
    "\n",
    "    bond_types = nx.get_edge_attributes(G, 'bond_type')\n",
    "    for edge in G.edges():\n",
    "        first, second = edge\n",
    "        ifirst = node_to_idx[first]\n",
    "        isecond = node_to_idx[second]\n",
    "        bond_type = bond_types[first, second]\n",
    "        mol.AddBond(ifirst, isecond, bond_type)\n",
    "\n",
    "    Chem.SanitizeMol(mol)\n",
    "    return mol"
   ]
  },
  {
   "cell_type": "code",
   "execution_count": 3,
   "metadata": {},
   "outputs": [
    {
     "data": {
      "image/png": "[encoded data removed]",
      "text/plain": [
       "<rdkit.Chem.rdchem.Mol at 0x7f64048af0d0>"
      ]
     },
     "execution_count": 3,
     "metadata": {},
     "output_type": "execute_result"
    }
   ],
   "source": [
    "smi = 'COc1ccc2c(c1)[nH]c(n2)[S@@](=O)Cc1ncc(c(c1C)OC)C'\n",
    "mol = Chem.MolFromSmiles(smi)\n",
    "mol"
   ]
  },
  {
   "cell_type": "code",
   "execution_count": 4,
   "metadata": {},
   "outputs": [],
   "source": [
    "g = mol_to_nx(mol)\n",
    "bfs = nx.bfs_tree(g, source = 0)\n",
    "dfs = nx.dfs_tree(g, source = 0)"
   ]
  },
  {
   "cell_type": "code",
   "execution_count": 5,
   "metadata": {},
   "outputs": [
    {
     "name": "stdout",
     "output_type": "stream",
     "text": [
      "[0, 1, 2, 3, 7, 4, 6, 5, 8, 10, 9, 11, 12, 13, 14, 15, 19, 16, 18, 20, 17, 21, 23, 22]\n",
      "[0, 1, 2, 3, 4, 5, 6, 7, 8, 9, 10, 11, 12, 13, 14, 15, 16, 17, 18, 19, 20, 21, 22, 23]\n"
     ]
    }
   ],
   "source": [
    "print([i for i in bfs])\n",
    "print([i for i in dfs])\n",
    "# print([g.nodes[i]['atomic_num'] for i in bfs])\n",
    "# print([g.nodes[i]['atomic_num'] for i in dfs])"
   ]
  },
  {
   "cell_type": "code",
   "execution_count": 6,
   "metadata": {},
   "outputs": [
    {
     "name": "stdout",
     "output_type": "stream",
     "text": [
      "[0, 1, 2, 3, 4, 5, 6, 7, 8, 9, 10, 11, 12, 13, 14, 15, 16, 17, 18, 19, 20, 21, 22, 23]\n"
     ]
    }
   ],
   "source": [
    "print([atom.GetIdx() for atom in mol.GetAtoms()])\n",
    "# print([atom.GetAtomicNum() for atom in mol.GetAtoms()])"
   ]
  },
  {
   "cell_type": "code",
   "execution_count": 7,
   "metadata": {},
   "outputs": [
    {
     "name": "stdout",
     "output_type": "stream",
     "text": [
      "41\n",
      "['C', 'O', 'c', '1', 'c', 'c', 'c', '2', 'c', '(', 'c', '1', ')', '[nH]', 'c', '(', 'n', '2', ')', '[S@@]', '(', '=', 'O', ')', 'C', 'c', '1', 'n', 'c', 'c', '(', 'c', '(', 'c', '1', 'C', ')', 'O', 'C', ')', 'C']\n"
     ]
    }
   ],
   "source": [
    "tokens = atomwise_tokenizer(smi)\n",
    "print(len(tokens))\n",
    "print(tokens)"
   ]
  },
  {
   "cell_type": "code",
   "execution_count": 8,
   "metadata": {},
   "outputs": [],
   "source": [
    "grammar = ['[', ']', '(', ')', '=', '.', '/', '\\\\', '-', '#'] + [str(i) for i in range(10)]"
   ]
  },
  {
   "cell_type": "code",
   "execution_count": 9,
   "metadata": {},
   "outputs": [],
   "source": [
    "positions = []\n",
    "atom_idx = 0\n",
    "grammar_idx = 0\n",
    "for tok in tokens:\n",
    "    if tok in grammar:\n",
    "        positions.append(None)\n",
    "        grammar_idx += 1\n",
    "    else:\n",
    "        positions.append((list(dfs)[atom_idx], list(bfs)[atom_idx]))\n",
    "        atom_idx += 1"
   ]
  },
  {
   "cell_type": "code",
   "execution_count": 10,
   "metadata": {},
   "outputs": [
    {
     "name": "stdout",
     "output_type": "stream",
     "text": [
      "C (0, 0)\n",
      "O (1, 1)\n",
      "c (2, 2)\n",
      "1 None\n",
      "c (3, 3)\n",
      "c (4, 7)\n",
      "c (5, 4)\n",
      "2 None\n",
      "c (6, 6)\n",
      "( None\n",
      "c (7, 5)\n",
      "1 None\n",
      ") None\n",
      "[nH] (8, 8)\n",
      "c (9, 10)\n"
     ]
    }
   ],
   "source": [
    "for tok, pos in zip(tokens[:15], positions[:15]):\n",
    "    print(tok, pos)"
   ]
  },
  {
   "cell_type": "code",
   "execution_count": 11,
   "metadata": {},
   "outputs": [
    {
     "name": "stdout",
     "output_type": "stream",
     "text": [
      "( None\n",
      "n (10, 9)\n",
      "2 None\n",
      ") None\n",
      "[S@@] (11, 11)\n",
      "( None\n",
      "= None\n",
      "O (12, 12)\n",
      ") None\n",
      "C (13, 13)\n",
      "c (14, 14)\n",
      "1 None\n",
      "n (15, 15)\n",
      "c (16, 19)\n",
      "c (17, 16)\n",
      "( None\n",
      "c (18, 18)\n",
      "( None\n",
      "c (19, 20)\n",
      "1 None\n",
      "C (20, 17)\n",
      ") None\n",
      "O (21, 21)\n",
      "C (22, 23)\n",
      ") None\n",
      "C (23, 22)\n"
     ]
    }
   ],
   "source": [
    "for tok, pos in zip(tokens[15:], positions[15:]):\n",
    "    print(tok, pos)"
   ]
  },
  {
   "cell_type": "code",
   "execution_count": 12,
   "metadata": {},
   "outputs": [],
   "source": [
    "df = pd.read_pickle('processed.pickle')\n",
    "reactants = df['reactants_mol'].apply(lambda x: '.'.join(x))\n",
    "products  = df['products_mol'].apply(lambda x: '.'.join(x))\n",
    "r_tokens = []\n",
    "p_tokens = []"
   ]
  },
  {
   "cell_type": "code",
   "execution_count": 13,
   "metadata": {},
   "outputs": [
    {
     "name": "stderr",
     "output_type": "stream",
     "text": [
      "100%|██████████| 50037/50037 [00:00<00:00, 55196.41it/s]\n"
     ]
    }
   ],
   "source": [
    "for i, (r, p) in enumerate(tqdm(zip(reactants, products), total=len(reactants))):\n",
    "    r_toks = atomwise_tokenizer(r)\n",
    "    p_toks = atomwise_tokenizer(p)"
   ]
  },
  {
   "cell_type": "code",
   "execution_count": 15,
   "metadata": {},
   "outputs": [
    {
     "name": "stdout",
     "output_type": "stream",
     "text": [
      "['C', 'O', 'C', '(', '=', 'O', ')', 'c', '1', 'c', 'c', '(', 'Br', ')', 'c', '(', 'F', ')', 'c', '(', 'F', ')', 'c', '1', 'N', 'c', '1', 'c', 'c', 'c', 'c', 'c', '1', 'F', '.', 'C', 'O', 'c', '1', 'c', 'c', 'c', '(', 'C', 'S', ')', 'c', 'c', '1']\n",
      "['C', 'O', 'C', '(', '=', 'O', ')', 'c', '1', 'c', 'c', '(', 'S', 'C', 'c', '2', 'c', 'c', 'c', '(', 'O', 'C', ')', 'c', 'c', '2', ')', 'c', '(', 'F', ')', 'c', '(', 'F', ')', 'c', '1', 'N', 'c', '1', 'c', 'c', 'c', 'c', 'c', '1', 'F']\n"
     ]
    }
   ],
   "source": [
    "print(r_toks)\n",
    "print(p_toks)"
   ]
  },
  {
   "cell_type": "code",
   "execution_count": null,
   "metadata": {},
   "outputs": [],
   "source": []
  }
 ],
 "metadata": {
  "kernelspec": {
   "display_name": "pytorch2",
   "language": "python",
   "name": "python3"
  },
  "language_info": {
   "codemirror_mode": {
    "name": "ipython",
    "version": 3
   },
   "file_extension": ".py",
   "mimetype": "text/x-python",
   "name": "python",
   "nbconvert_exporter": "python",
   "pygments_lexer": "ipython3",
   "version": "3.10.11"
  },
  "orig_nbformat": 4
 },
 "nbformat": 4,
 "nbformat_minor": 2
}
